{
 "cells": [
  {
   "cell_type": "markdown",
   "metadata": {},
   "source": [
    "# Para las distribuciones de Poisson, Distribucion Beta, Binomial y $X^2$, encontrar el CDF (Cumulative Function Distribution), media, mediana, moda, varianza y desviacion estandar."
   ]
  },
  {
   "cell_type": "code",
   "execution_count": 1,
   "metadata": {},
   "outputs": [],
   "source": [
    "# Aqui cargamos las liberias a usar\n",
    "\n",
    "import matplotlib.pyplot as plt\n",
    "import scipy.special\n",
    "import numpy as np\n",
    "import math\n",
    "%matplotlib inline"
   ]
  },
  {
   "cell_type": "markdown",
   "metadata": {},
   "source": [
    "## Distribucion de Poisson"
   ]
  },
  {
   "cell_type": "markdown",
   "metadata": {},
   "source": [
    "La distribucion de probabilidad de Poisson, o probabilidad de que se den x sucesos en un proceso de Poisson con valor promedio λ, vendra dada por:\n",
    "$p(x;λ)= λ^x / x! * e ^{−λ}$,   donde x =0 ,1,2,...\n"
   ]
  },
  {
   "cell_type": "markdown",
   "metadata": {},
   "source": [
    "Guardamos 3 diferentes valores del parametro λ y tres valores diferentes de la variable 'x' para generar 3 graficas diferentes de la funcion de Poisson."
   ]
  },
  {
   "cell_type": "code",
   "execution_count": 2,
   "metadata": {},
   "outputs": [],
   "source": [
    "mu1 = 4\n",
    "mu2 = 25\n",
    "mu3 = 75\n",
    "\n",
    "xf = 25\n",
    "xf2 = 75\n",
    "xf3 = 120"
   ]
  },
  {
   "cell_type": "markdown",
   "metadata": {},
   "source": [
    "Para la variable 'x' generamos un arreglo discreto con valores enteros. Tambien generamos un arreglo 'a' que contiene la evaluacion de la funcion de probabilidad de Poisson y un arreglo 'y' que contiene la funcion acumulada de la funcion de probabilidad de Possion de su correspondiente valor de media."
   ]
  },
  {
   "cell_type": "code",
   "execution_count": 3,
   "metadata": {},
   "outputs": [],
   "source": [
    "x=np.arange(0, xf, 1)\n",
    "x2=np.arange(0, xf2, 1)\n",
    "x3=np.arange(0, xf3, 1)\n",
    "a1 = np.empty(xf)\n",
    "y1 = np.empty(xf)\n",
    "a2 = np.empty(xf2)\n",
    "y2 = np.empty(xf2)\n",
    "a3 = np.empty(xf3)\n",
    "y3 = np.empty(xf3)"
   ]
  },
  {
   "cell_type": "markdown",
   "metadata": {},
   "source": [
    "Evaluamos la funcion de probabilidad de Poisson y la funcion acumulada."
   ]
  },
  {
   "cell_type": "code",
   "execution_count": 4,
   "metadata": {},
   "outputs": [],
   "source": [
    "for i in range(0, xf):\n",
    "    a1[i] = math.exp(-mu1)*math.pow(mu1,x[i])/math.factorial(x[i])"
   ]
  },
  {
   "cell_type": "code",
   "execution_count": 5,
   "metadata": {},
   "outputs": [],
   "source": [
    "y1[0] = a1[0]\n",
    "for j in range(1, xf):\n",
    "    y1[j] = a1[j] + y1[j-1]"
   ]
  },
  {
   "cell_type": "markdown",
   "metadata": {},
   "source": [
    "Graficamos el CDF y PDF de la funcion de probabilidad de Possion."
   ]
  },
  {
   "cell_type": "code",
   "execution_count": 6,
   "metadata": {},
   "outputs": [
    {
     "data": {
      "text/plain": [
       "Text(0,0.5,'ACUMULADO')"
      ]
     },
     "execution_count": 6,
     "metadata": {},
     "output_type": "execute_result"
    },
    {
     "data": {
      "image/png": "[encoded data removed]",
      "text/plain": [
       "<Figure size 432x288 with 1 Axes>"
      ]
     },
     "metadata": {},
     "output_type": "display_data"
    }
   ],
   "source": [
    "plt.plot(x,y1, \"*\", label=\"CDF POISSON\")\n",
    "plt.plot(x,a1, \"*\", label=\"PDF POISSON λ = 4\")\n",
    "plt.legend()\n",
    "plt.xlabel(\"EJE X\")\n",
    "plt.ylabel(\"ACUMULADO\")"
   ]
  },
  {
   "cell_type": "markdown",
   "metadata": {},
   "source": [
    "### Media"
   ]
  },
  {
   "cell_type": "markdown",
   "metadata": {},
   "source": [
    "En la distribucion de Poisson, la media coincide con el parametro λ, evaluamos la media con la siguiente expresion: $μ = \\sum_{x=0}^{\\infty}xp(x;λ)$"
   ]
  },
  {
   "cell_type": "code",
   "execution_count": 116,
   "metadata": {},
   "outputs": [],
   "source": [
    "xmed1 = np.sum(x*a1)"
   ]
  },
  {
   "cell_type": "code",
   "execution_count": 117,
   "metadata": {},
   "outputs": [
    {
     "data": {
      "text/plain": [
       "3.9999999999604863"
      ]
     },
     "execution_count": 117,
     "metadata": {},
     "output_type": "execute_result"
    }
   ],
   "source": [
    "xmed1"
   ]
  },
  {
   "cell_type": "markdown",
   "metadata": {},
   "source": [
    "### Mediana"
   ]
  },
  {
   "cell_type": "markdown",
   "metadata": {},
   "source": [
    "Los limites de la mediana (v) para la distribucion de Possion  son: $λ-Ln(2) ≤ v < λ + 1/3$ "
   ]
  },
  {
   "cell_type": "code",
   "execution_count": 118,
   "metadata": {},
   "outputs": [],
   "source": [
    "med11 = mu1 - math.log(2)"
   ]
  },
  {
   "cell_type": "code",
   "execution_count": 119,
   "metadata": {},
   "outputs": [],
   "source": [
    "med12 = mu1 + 1/3"
   ]
  },
  {
   "cell_type": "markdown",
   "metadata": {},
   "source": [
    "Limite inferior"
   ]
  },
  {
   "cell_type": "code",
   "execution_count": 121,
   "metadata": {},
   "outputs": [
    {
     "data": {
      "text/plain": [
       "3.3068528194400546"
      ]
     },
     "execution_count": 121,
     "metadata": {},
     "output_type": "execute_result"
    }
   ],
   "source": [
    "med11"
   ]
  },
  {
   "cell_type": "markdown",
   "metadata": {},
   "source": [
    "Limite superior"
   ]
  },
  {
   "cell_type": "code",
   "execution_count": 112,
   "metadata": {},
   "outputs": [
    {
     "data": {
      "text/plain": [
       "4.333333333333333"
      ]
     },
     "execution_count": 112,
     "metadata": {},
     "output_type": "execute_result"
    }
   ],
   "source": [
    "med12"
   ]
  },
  {
   "cell_type": "markdown",
   "metadata": {},
   "source": [
    "### Moda"
   ]
  },
  {
   "cell_type": "markdown",
   "metadata": {},
   "source": [
    "Los limites de la moda (Mo) para la distribucion de Possion  son: $λ - 1  ≤ Mo < λ$ "
   ]
  },
  {
   "cell_type": "code",
   "execution_count": 125,
   "metadata": {},
   "outputs": [],
   "source": [
    "mod11 = mu1-1"
   ]
  },
  {
   "cell_type": "code",
   "execution_count": 127,
   "metadata": {},
   "outputs": [],
   "source": [
    "mod12 = mu1"
   ]
  },
  {
   "cell_type": "markdown",
   "metadata": {},
   "source": [
    "Limite inferior"
   ]
  },
  {
   "cell_type": "code",
   "execution_count": 128,
   "metadata": {},
   "outputs": [
    {
     "data": {
      "text/plain": [
       "3"
      ]
     },
     "execution_count": 128,
     "metadata": {},
     "output_type": "execute_result"
    }
   ],
   "source": [
    "mod11"
   ]
  },
  {
   "cell_type": "markdown",
   "metadata": {},
   "source": [
    "Limite superior\n"
   ]
  },
  {
   "cell_type": "code",
   "execution_count": 130,
   "metadata": {},
   "outputs": [
    {
     "data": {
      "text/plain": [
       "4"
      ]
     },
     "execution_count": 130,
     "metadata": {},
     "output_type": "execute_result"
    }
   ],
   "source": [
    "mod12"
   ]
  },
  {
   "cell_type": "markdown",
   "metadata": {},
   "source": [
    "### Varianza"
   ]
  },
  {
   "cell_type": "markdown",
   "metadata": {},
   "source": [
    "La varianza ($σ^{2}$) de la distribucion de Poisson coincide con su valor medio y con el parametro λ que fija la funcion de probabilidad."
   ]
  },
  {
   "cell_type": "code",
   "execution_count": 60,
   "metadata": {},
   "outputs": [],
   "source": [
    "var1 = mu1"
   ]
  },
  {
   "cell_type": "code",
   "execution_count": 71,
   "metadata": {},
   "outputs": [
    {
     "data": {
      "text/plain": [
       "4"
      ]
     },
     "execution_count": 71,
     "metadata": {},
     "output_type": "execute_result"
    }
   ],
   "source": [
    "var1"
   ]
  },
  {
   "cell_type": "markdown",
   "metadata": {},
   "source": [
    "### Desviacion estandar"
   ]
  },
  {
   "cell_type": "markdown",
   "metadata": {},
   "source": [
    "La desviacion estandar queda entonces como : $σ = \\sqrt{λ}$"
   ]
  },
  {
   "cell_type": "code",
   "execution_count": 18,
   "metadata": {},
   "outputs": [],
   "source": [
    "dest1 = math.sqrt(mu1)"
   ]
  },
  {
   "cell_type": "code",
   "execution_count": 19,
   "metadata": {},
   "outputs": [
    {
     "data": {
      "text/plain": [
       "2.0"
      ]
     },
     "execution_count": 19,
     "metadata": {},
     "output_type": "execute_result"
    }
   ],
   "source": [
    "dest1"
   ]
  },
  {
   "cell_type": "markdown",
   "metadata": {},
   "source": [
    "Repetimos para otros dos valores del parametro λ:"
   ]
  },
  {
   "cell_type": "code",
   "execution_count": 26,
   "metadata": {},
   "outputs": [],
   "source": [
    "for i in range(0, xf2):\n",
    "    a2[i] = math.exp(-mu2)*math.pow(mu2,x2[i])/math.factorial(x2[i])"
   ]
  },
  {
   "cell_type": "code",
   "execution_count": 27,
   "metadata": {},
   "outputs": [],
   "source": [
    "y2[0] = a2[0]\n",
    "for j in range(1, xf2):\n",
    "    y2[j] = a2[j] + y2[j-1]"
   ]
  },
  {
   "cell_type": "code",
   "execution_count": 28,
   "metadata": {},
   "outputs": [
    {
     "data": {
      "text/plain": [
       "Text(0,0.5,'ACUMULADO')"
      ]
     },
     "execution_count": 28,
     "metadata": {},
     "output_type": "execute_result"
    },
    {
     "data": {
      "image/png": "[encoded data removed]",
      "text/plain": [
       "<Figure size 432x288 with 1 Axes>"
      ]
     },
     "metadata": {},
     "output_type": "display_data"
    }
   ],
   "source": [
    "plt.plot(x2,y2, \"*\", label=\"CDF POISSON\")\n",
    "plt.plot(x2,a2, \"*\", label=\"PDF POISSON λ = 25\")\n",
    "plt.legend()\n",
    "plt.xlabel(\"EJE X\")\n",
    "plt.ylabel(\"ACUMULADO\")"
   ]
  },
  {
   "cell_type": "code",
   "execution_count": 21,
   "metadata": {},
   "outputs": [],
   "source": [
    "for i in range(0, xf3):\n",
    "    a3[i] = math.exp(-mu3)*math.pow(mu3,x3[i])/math.factorial(x3[i])"
   ]
  },
  {
   "cell_type": "code",
   "execution_count": 22,
   "metadata": {},
   "outputs": [],
   "source": [
    "y3[0] = a3[0]\n",
    "for j in range(1, xf3):\n",
    "    y3[j] = a3[j] + y3[j-1]"
   ]
  },
  {
   "cell_type": "code",
   "execution_count": 182,
   "metadata": {
    "scrolled": true
   },
   "outputs": [
    {
     "data": {
      "text/plain": [
       "Text(0,0.5,'ACUMULADO')"
      ]
     },
     "execution_count": 182,
     "metadata": {},
     "output_type": "execute_result"
    },
    {
     "data": {
      "image/png": "[encoded data removed]",
      "text/plain": [
       "<Figure size 432x288 with 1 Axes>"
      ]
     },
     "metadata": {},
     "output_type": "display_data"
    }
   ],
   "source": [
    "plt.plot(x3,y3, \"*\", label=\"CDF POISSON\")\n",
    "plt.plot(x3,a3, \"*\", label=\"PDF POISSON λ = 75\")\n",
    "plt.legend()\n",
    "plt.xlabel(\"EJE X\")\n",
    "plt.ylabel(\"ACUMULADO\")"
   ]
  },
  {
   "cell_type": "markdown",
   "metadata": {},
   "source": [
    "## Distribucion Binomial"
   ]
  },
  {
   "cell_type": "markdown",
   "metadata": {},
   "source": [
    "La probabilidad de obtener x exitos, o la distribucion de probabilidad binomial, viene dada por:\n",
    "$b(x;n,p) = \\displaystyle{n \\choose k} p^x q^{n−x}$, donde x = 0 ,1,...,n."
   ]
  },
  {
   "cell_type": "markdown",
   "metadata": {},
   "source": [
    "Guardamos 3 valores distintos de 'n' (numero de pruebas) y de 'p' (probabilidad de ocurrencia) para realizar tres diferenctes graficas"
   ]
  },
  {
   "cell_type": "code",
   "execution_count": 49,
   "metadata": {},
   "outputs": [],
   "source": [
    "n1 = 20\n",
    "p1 = 0.7\n",
    "\n",
    "n2 = 20\n",
    "p2 = 0.5\n",
    "\n",
    "n3 = 40\n",
    "p3 = 0.5"
   ]
  },
  {
   "cell_type": "markdown",
   "metadata": {},
   "source": [
    "Generamos el arreglo 'x' que corresponde a las abscisas, el arreglo 'a' que guarda los valores de la evaluacion de la funcion de probabilidad  Binomial y el arreglo 'y' que guarda los valores de la funcion acumulada."
   ]
  },
  {
   "cell_type": "code",
   "execution_count": 50,
   "metadata": {},
   "outputs": [],
   "source": [
    "xf4 = n1 + 1\n",
    "x4 = np.arange(0, xf4, 1)\n",
    "a4 = np.empty(xf4)\n",
    "y4 = np.empty(xf4)\n",
    "\n",
    "xf5 = n2 + 1\n",
    "x5 = np.arange(0, xf5, 1)\n",
    "a5 = np.empty(xf5)\n",
    "y5 = np.empty(xf5)\n",
    "\n",
    "xf6 = n3 + 1\n",
    "x6 = np.arange(0, xf6, 1)\n",
    "a6 = np.empty(xf6)\n",
    "y6 = np.empty(xf6)"
   ]
  },
  {
   "cell_type": "markdown",
   "metadata": {},
   "source": [
    "Definimos la funcion 'comb' que genera las combinaciones de 'n' en 'x'. Para poder evaluar el factorial debemos de haber discretizado la variable 'x' en numeros enteros."
   ]
  },
  {
   "cell_type": "code",
   "execution_count": 51,
   "metadata": {},
   "outputs": [],
   "source": [
    "def comb(n, k):\n",
    "    c = math.factorial(n) / (math.factorial(k) * math.factorial((n-k)))\n",
    "    return c"
   ]
  },
  {
   "cell_type": "markdown",
   "metadata": {},
   "source": [
    "Evaluamos la funcion de probabilidad Binomial y la funcion acumulada."
   ]
  },
  {
   "cell_type": "code",
   "execution_count": 52,
   "metadata": {},
   "outputs": [],
   "source": [
    "for i in range(0, xf4):\n",
    "    a4[i] = comb(n1,x4[i]) * math.pow(p1, x4[i]) * math.pow((1 - p1), (n1 - x4[i]))"
   ]
  },
  {
   "cell_type": "code",
   "execution_count": 53,
   "metadata": {},
   "outputs": [],
   "source": [
    "y4[0] = 0\n",
    "for j in range(1, xf4):\n",
    "    y4[j] =  a4[j] + y4[j - 1]"
   ]
  },
  {
   "cell_type": "markdown",
   "metadata": {},
   "source": [
    "Graficamos el CDF y PDF de la funcion de probabilidad Binomial"
   ]
  },
  {
   "cell_type": "code",
   "execution_count": 54,
   "metadata": {},
   "outputs": [
    {
     "data": {
      "text/plain": [
       "Text(0,0.5,'ACUMULADO')"
      ]
     },
     "execution_count": 54,
     "metadata": {},
     "output_type": "execute_result"
    },
    {
     "data": {
      "image/png": "[encoded data removed]",
      "text/plain": [
       "<Figure size 432x288 with 1 Axes>"
      ]
     },
     "metadata": {},
     "output_type": "display_data"
    }
   ],
   "source": [
    "plt.plot(x4,y4, \"*\", label=\"CDF BINOMIAL\")\n",
    "plt.plot(x4,a4, \"*\", label=\"PDF BINOMIAL p = 0.7, n = 20\")\n",
    "plt.legend()\n",
    "plt.xlabel(\"EJE X\")\n",
    "plt.ylabel(\"ACUMULADO\")"
   ]
  },
  {
   "cell_type": "markdown",
   "metadata": {},
   "source": [
    "### Media"
   ]
  },
  {
   "cell_type": "markdown",
   "metadata": {},
   "source": [
    "Calculamos la media de la distribucion binomial con la siguiente expresion: $μ = \\sum_{x=0}^{1}xb(x;n,p)$"
   ]
  },
  {
   "cell_type": "code",
   "execution_count": 159,
   "metadata": {},
   "outputs": [],
   "source": [
    "xmed4 = np.sum(x4*a4)"
   ]
  },
  {
   "cell_type": "code",
   "execution_count": 160,
   "metadata": {},
   "outputs": [
    {
     "data": {
      "text/plain": [
       "14.000000000000002"
      ]
     },
     "execution_count": 160,
     "metadata": {},
     "output_type": "execute_result"
    }
   ],
   "source": [
    "xmed4"
   ]
  },
  {
   "cell_type": "markdown",
   "metadata": {},
   "source": [
    "### Mediana"
   ]
  },
  {
   "cell_type": "markdown",
   "metadata": {},
   "source": [
    "En general, no hay una formula para encontrar la mediana de una distribucion binomial. Hay varios resultados que se han establecido:\n",
    "    1.- Si np es un entero, entonces la media, mediana y moda coinciden y son iguales a np.\n",
    "    2.- Una mediana no se puede alejar de la mediana en: |m − np| ≤ min{ ln 2, max{p, 1 − p} }.\n",
    "    3.- La mediana es unica e igual a redondear np en casos en que p ≤ 1 − ln 2 o p ≥ ln 2 o |m − np| ≤ minimo{p, 1 − p} (excepto para el caso cuando p = ½ y n es impar).    "
   ]
  },
  {
   "cell_type": "markdown",
   "metadata": {},
   "source": [
    "### Moda"
   ]
  },
  {
   "cell_type": "markdown",
   "metadata": {},
   "source": [
    "Por lo general, la moda de la distribución binomial B(n, p) es igual a [(n+1)p]. Sin embargo, cuando ( n + 1)p es un número entero y p no es 0 ni 1, entonces la distribución tiene dos modos: (n + 1)p y (n + 1)p - 1. Cuando p es igual a 0 o 1, la moda será 0 y n correspondientemente. Estos casos se pueden resumir a continucacion:"
   ]
  },
  {
   "cell_type": "markdown",
   "metadata": {},
   "source": [
    "$(n+1)p$ si $(n+1)p$ es 0 o no entero"
   ]
  },
  {
   "cell_type": "markdown",
   "metadata": {},
   "source": [
    "$(n+1)p$ y $(n+1)p - 1$ si $(n+1)p ∈ {1,...,n}$ "
   ]
  },
  {
   "cell_type": "markdown",
   "metadata": {},
   "source": [
    "$n$ si $(n+1)p = n+1$"
   ]
  },
  {
   "cell_type": "markdown",
   "metadata": {},
   "source": [
    "### Varianza"
   ]
  },
  {
   "cell_type": "markdown",
   "metadata": {},
   "source": [
    "La varianza ($σ^{2}$) de la distribucion binomial se calcula con la expresion: $σ^{2} = \\sum_{x=0}^{1}x^{2}b(x;n,p) - μ^{2} $"
   ]
  },
  {
   "cell_type": "code",
   "execution_count": 69,
   "metadata": {},
   "outputs": [],
   "source": [
    "var4 = np.sum(x4 * x4 * a4) - xmed4 ** 2"
   ]
  },
  {
   "cell_type": "code",
   "execution_count": 70,
   "metadata": {},
   "outputs": [
    {
     "data": {
      "text/plain": [
       "4.199999999999932"
      ]
     },
     "execution_count": 70,
     "metadata": {},
     "output_type": "execute_result"
    }
   ],
   "source": [
    "var4"
   ]
  },
  {
   "cell_type": "markdown",
   "metadata": {},
   "source": [
    "### Desviacion estandar"
   ]
  },
  {
   "cell_type": "markdown",
   "metadata": {},
   "source": [
    "La desviacion estandar queda entonces como : $σ = \\sqrt{\\sum_{x=0}^{1}x^{2}b(x;n,p) - μ^{2}}$"
   ]
  },
  {
   "cell_type": "code",
   "execution_count": 75,
   "metadata": {},
   "outputs": [],
   "source": [
    "dest4 = math.sqrt(var4)"
   ]
  },
  {
   "cell_type": "code",
   "execution_count": 77,
   "metadata": {},
   "outputs": [
    {
     "data": {
      "text/plain": [
       "2.049390153191903"
      ]
     },
     "execution_count": 77,
     "metadata": {},
     "output_type": "execute_result"
    }
   ],
   "source": [
    "dest4"
   ]
  },
  {
   "cell_type": "markdown",
   "metadata": {},
   "source": [
    "Repetimos para otros dos valores de 'p' y 'n'"
   ]
  },
  {
   "cell_type": "code",
   "execution_count": 83,
   "metadata": {},
   "outputs": [],
   "source": [
    "for i in range(0, xf5):\n",
    "    a5[i] = comb(n2,x5[i]) * math.pow(p2, x5[i]) * math.pow((1 - p2), (n2 - x5[i]))"
   ]
  },
  {
   "cell_type": "code",
   "execution_count": 84,
   "metadata": {},
   "outputs": [],
   "source": [
    "y5[0] = 0\n",
    "for j in range(1, xf5):\n",
    "    y5[j] =  a5[j] + y5[j - 1]"
   ]
  },
  {
   "cell_type": "code",
   "execution_count": 85,
   "metadata": {},
   "outputs": [
    {
     "data": {
      "text/plain": [
       "Text(0,0.5,'ACUMULADO')"
      ]
     },
     "execution_count": 85,
     "metadata": {},
     "output_type": "execute_result"
    },
    {
     "data": {
      "image/png": "[encoded data removed]",
      "text/plain": [
       "<Figure size 432x288 with 1 Axes>"
      ]
     },
     "metadata": {},
     "output_type": "display_data"
    }
   ],
   "source": [
    "plt.plot(x5,y5, \"*\", label=\"CDF BINOMIAL\")\n",
    "plt.plot(x5,a5, \"*\", label=\"PDF BINOMIAL p = 0.5, n = 20\")\n",
    "plt.legend()\n",
    "plt.xlabel(\"EJE X\")\n",
    "plt.ylabel(\"ACUMULADO\")"
   ]
  },
  {
   "cell_type": "code",
   "execution_count": 79,
   "metadata": {},
   "outputs": [],
   "source": [
    "for i in range(0, xf6):\n",
    "    a6[i] = comb(n3,x6[i]) * math.pow(p3, x6[i]) * math.pow((1 - p3), (n3 - x6[i]))"
   ]
  },
  {
   "cell_type": "code",
   "execution_count": 80,
   "metadata": {},
   "outputs": [],
   "source": [
    "y6[0] = 0\n",
    "for j in range(1, xf6):\n",
    "    y6[j] =  a6[j] + y6[j - 1]"
   ]
  },
  {
   "cell_type": "code",
   "execution_count": 81,
   "metadata": {
    "scrolled": true
   },
   "outputs": [
    {
     "data": {
      "text/plain": [
       "Text(0,0.5,'ACUMULADO')"
      ]
     },
     "execution_count": 81,
     "metadata": {},
     "output_type": "execute_result"
    },
    {
     "data": {
      "image/png": "[encoded data removed]",
      "text/plain": [
       "<Figure size 432x288 with 1 Axes>"
      ]
     },
     "metadata": {},
     "output_type": "display_data"
    }
   ],
   "source": [
    "plt.plot(x6,a6, \"*\", label=\"PDF BINOMIAL p = 0.5, n = 40\")\n",
    "plt.plot(x6,y6, \"*\", label=\"CDF BINOMIAL\")\n",
    "plt.legend()\n",
    "plt.xlabel(\"EJE X\")\n",
    "plt.ylabel(\"ACUMULADO\")"
   ]
  },
  {
   "cell_type": "markdown",
   "metadata": {},
   "source": [
    "## Distribucion Beta"
   ]
  },
  {
   "cell_type": "markdown",
   "metadata": {},
   "source": [
    "La distribucion de probabilidad beta es una funcion de probabilidad continua con dos parametros 'α' y 'β' cuya función de densidad para valores $0 ≤ x ≤ 1$ es\n",
    "$f(x) = \\frac{\\Gamma(α + β)}{\\Gamma(α)\\Gamma(β)}x^{α-1}(1-x)^{β-1}$\n",
    "donde $\\Gamma$ es la funcion gamma."
   ]
  },
  {
   "cell_type": "markdown",
   "metadata": {},
   "source": [
    "Generamos tres arreglos 'x' entre  $(0 < x < 1)$ para el eje de las abscisas, tres arreglos 'a' para guardar la evaluacion de la funcion de probabilidad Beta y tres arreglos 'y' para guardar la funcion acumulada.  "
   ]
  },
  {
   "cell_type": "code",
   "execution_count": 153,
   "metadata": {},
   "outputs": [],
   "source": [
    "x7 = np.arange(0.01,1,0.001)\n",
    "a7 = np.empty(len(x7))\n",
    "y7 = np.empty(len(x7))\n",
    "\n",
    "x8 = np.arange(0.01,1,0.001)\n",
    "a8 = np.empty(len(x8))\n",
    "y8 = np.empty(len(x8))\n",
    "\n",
    "x9 = np.arange(0.01,1,0.001)\n",
    "a9 = np.empty(len(x9))\n",
    "y9 = np.empty(len(x9))\n",
    "\n",
    "alfa1 = 0.5\n",
    "beta1 = 0.5\n",
    "alfa2 = 1\n",
    "beta2 = 1\n",
    "alfa3 = 2\n",
    "beta3 = 5\n"
   ]
  },
  {
   "cell_type": "markdown",
   "metadata": {},
   "source": [
    "Evaluamos la funcion de probabilidad Beta. Se importo la libreria 'scipy.special' para evaluar la funcion gamma. Tambien evaluamos la funcion acumulada."
   ]
  },
  {
   "cell_type": "code",
   "execution_count": 154,
   "metadata": {},
   "outputs": [],
   "source": [
    "for i in range(0, len(x7)):\n",
    "    a7[i] = (scipy.special.gamma(alfa1 + beta1)/(scipy.special.gamma(alfa1) * scipy.special.gamma(beta1))) * math.pow(x7[i], alfa1 - 1) * math.pow((1 - x7[i]), beta1 - 1)"
   ]
  },
  {
   "cell_type": "code",
   "execution_count": 155,
   "metadata": {},
   "outputs": [],
   "source": [
    "y7[0] = 0\n",
    "for j in range(1, len(x7)):\n",
    "    y7[j] =  (a7[j - 1] + a7[j])/2 *0.001 + y7[j - 1] "
   ]
  },
  {
   "cell_type": "markdown",
   "metadata": {},
   "source": [
    "Graficamos el CDF y PDF de la funcion de probabilidad Beta"
   ]
  },
  {
   "cell_type": "code",
   "execution_count": 156,
   "metadata": {},
   "outputs": [
    {
     "data": {
      "text/plain": [
       "Text(0,0.5,'ACUMULADO')"
      ]
     },
     "execution_count": 156,
     "metadata": {},
     "output_type": "execute_result"
    },
    {
     "data": {
      "image/png": "[encoded data removed]",
      "text/plain": [
       "<Figure size 432x288 with 1 Axes>"
      ]
     },
     "metadata": {},
     "output_type": "display_data"
    }
   ],
   "source": [
    "plt.plot(x7,y7, 'green', label=\"CDF BETA\")\n",
    "plt.plot(x7,a7, 'black', label=\"PDF BETA α = 0.5 y β = 0.5\")\n",
    "plt.legend()\n",
    "plt.xlabel(\"EJE X\")\n",
    "plt.ylabel(\"ACUMULADO\")"
   ]
  },
  {
   "cell_type": "markdown",
   "metadata": {},
   "source": [
    "### Media "
   ]
  },
  {
   "cell_type": "markdown",
   "metadata": {},
   "source": [
    "La media de la distribucion beta queda definida por:"
   ]
  },
  {
   "cell_type": "markdown",
   "metadata": {},
   "source": [
    "$μ = \\frac{α}{α + β}$"
   ]
  },
  {
   "cell_type": "code",
   "execution_count": 163,
   "metadata": {},
   "outputs": [],
   "source": [
    "med7 = alfa1/(alfa1+beta1)"
   ]
  },
  {
   "cell_type": "code",
   "execution_count": 164,
   "metadata": {},
   "outputs": [
    {
     "data": {
      "text/plain": [
       "0.5"
      ]
     },
     "execution_count": 164,
     "metadata": {},
     "output_type": "execute_result"
    }
   ],
   "source": [
    "med7"
   ]
  },
  {
   "cell_type": "markdown",
   "metadata": {},
   "source": [
    "### Mediana"
   ]
  },
  {
   "cell_type": "markdown",
   "metadata": {},
   "source": [
    " No existe una expresion general de forma cerrada para la mediana de la distribucion beta para valores arbitrarios de α y β. Las expresiones de forma cerrada para valores particulares de los parámetros α y β siguen:"
   ]
  },
  {
   "cell_type": "markdown",
   "metadata": {},
   "source": [
    "• Para casos simétricos α = β , mediana = 1/2."
   ]
  },
  {
   "cell_type": "markdown",
   "metadata": {},
   "source": [
    "• Para α = 1 y β > 0, mediana = $1 - 2^{-1/β}$."
   ]
  },
  {
   "cell_type": "markdown",
   "metadata": {},
   "source": [
    "• Para α > 0 y β = 1, mediana = $2^{-1/β}$."
   ]
  },
  {
   "cell_type": "markdown",
   "metadata": {},
   "source": [
    "• Para α = 3 y β = 2, mediana = 0.6142724318676105 ..., la solucion real a la ecuacion cuartica $1 - 8x^3 + 6x^4 = 0$ "
   ]
  },
  {
   "cell_type": "markdown",
   "metadata": {},
   "source": [
    "Una aproximacion razonable del valor de la mediana de la distribucion beta, para α y β mayor o igual a uno, viene dada por la formula:"
   ]
  },
  {
   "cell_type": "markdown",
   "metadata": {},
   "source": [
    "$mediana = \\frac{α - 1/3}{α + β - 2/3}$ para α y β ≥ 1."
   ]
  },
  {
   "cell_type": "markdown",
   "metadata": {},
   "source": [
    "### Moda"
   ]
  },
  {
   "cell_type": "markdown",
   "metadata": {},
   "source": [
    "La moda de la distribucion beta esta dada por la siguiente expresion:"
   ]
  },
  {
   "cell_type": "markdown",
   "metadata": {},
   "source": [
    "Mo = $\\frac{α - 1}{α + β - 2}$ para valores de α y β > 1."
   ]
  },
  {
   "cell_type": "markdown",
   "metadata": {},
   "source": [
    "Mo = 1 para valores de α y β entre (0, 1)."
   ]
  },
  {
   "cell_type": "markdown",
   "metadata": {},
   "source": [
    "0 para α = 1, β > 1"
   ]
  },
  {
   "cell_type": "markdown",
   "metadata": {},
   "source": [
    "1 para α > 1, β = 1"
   ]
  },
  {
   "cell_type": "markdown",
   "metadata": {},
   "source": [
    "### Varianza"
   ]
  },
  {
   "cell_type": "markdown",
   "metadata": {},
   "source": [
    "La varianza de la distribucion beta esta dada por la siguiente expresion:"
   ]
  },
  {
   "cell_type": "markdown",
   "metadata": {},
   "source": [
    "$σ^{2} = \\frac{αβ}{(α+β)^{2}(α+β+1)}$"
   ]
  },
  {
   "cell_type": "code",
   "execution_count": 168,
   "metadata": {},
   "outputs": [],
   "source": [
    " var7 = (alfa1*beta1)/(math.pow(alfa1+beta1,2)*(alfa1+beta1+1))"
   ]
  },
  {
   "cell_type": "code",
   "execution_count": 170,
   "metadata": {},
   "outputs": [
    {
     "data": {
      "text/plain": [
       "0.125"
      ]
     },
     "execution_count": 170,
     "metadata": {},
     "output_type": "execute_result"
    }
   ],
   "source": [
    " var7"
   ]
  },
  {
   "cell_type": "markdown",
   "metadata": {},
   "source": [
    "### Desviacion estandar"
   ]
  },
  {
   "cell_type": "markdown",
   "metadata": {},
   "source": [
    "La desviacion estandar queda entonces como : $σ = \\sqrt{\\frac{αβ}{(α+β)^{2}(α+β+1)}}$"
   ]
  },
  {
   "cell_type": "code",
   "execution_count": 174,
   "metadata": {},
   "outputs": [],
   "source": [
    "dest7 = math.sqrt(var7)"
   ]
  },
  {
   "cell_type": "code",
   "execution_count": 175,
   "metadata": {},
   "outputs": [
    {
     "data": {
      "text/plain": [
       "0.3535533905932738"
      ]
     },
     "execution_count": 175,
     "metadata": {},
     "output_type": "execute_result"
    }
   ],
   "source": [
    "dest7 "
   ]
  },
  {
   "cell_type": "markdown",
   "metadata": {},
   "source": [
    "Repetimos para otros dos valores diferentes de α y β."
   ]
  },
  {
   "cell_type": "markdown",
   "metadata": {},
   "source": [
    "Un caso especial de la distribución beta es cuando α = 1 y β = 1 que coincide con la distribución uniforme en el intervalo [0, 1]. "
   ]
  },
  {
   "cell_type": "code",
   "execution_count": 171,
   "metadata": {},
   "outputs": [],
   "source": [
    "for i in range(0, len(x8)):\n",
    "    a8[i] = (scipy.special.gamma(alfa2 + beta2)/(scipy.special.gamma(alfa2) * scipy.special.gamma(beta2))) * math.pow(x8[i], alfa2 - 1) * math.pow((1 - x8[i]), beta2 - 1)"
   ]
  },
  {
   "cell_type": "code",
   "execution_count": 192,
   "metadata": {},
   "outputs": [],
   "source": [
    "y8[0] = 0\n",
    "for j in range(1, len(x8)):\n",
    "    y8[j] =  (a8[j - 1] + a8[j])/2 *0.001 + y8[j - 1] "
   ]
  },
  {
   "cell_type": "code",
   "execution_count": 195,
   "metadata": {},
   "outputs": [
    {
     "data": {
      "text/plain": [
       "Text(0,0.5,'ACUMULADO')"
      ]
     },
     "execution_count": 195,
     "metadata": {},
     "output_type": "execute_result"
    },
    {
     "data": {
      "image/png": "[encoded data removed]",
      "text/plain": [
       "<Figure size 432x288 with 1 Axes>"
      ]
     },
     "metadata": {},
     "output_type": "display_data"
    }
   ],
   "source": [
    "plt.plot(x8,y8, 'green', label=\"CDF BETA\")\n",
    "plt.plot(x8,a8, 'black', label=\"PDF BETA α = 1 y β = 1\")\n",
    "plt.legend()\n",
    "plt.xlabel(\"EJE X\")\n",
    "plt.ylabel(\"ACUMULADO\")"
   ]
  },
  {
   "cell_type": "code",
   "execution_count": 186,
   "metadata": {},
   "outputs": [],
   "source": [
    "for i in range(0, len(x9)):\n",
    "    a9[i] = (scipy.special.gamma(alfa3 + beta3)/(scipy.special.gamma(alfa3) * scipy.special.gamma(beta3))) * math.pow(x9[i], alfa3 - 1) * math.pow((1 - x9[i]), beta3 - 1)"
   ]
  },
  {
   "cell_type": "code",
   "execution_count": 187,
   "metadata": {},
   "outputs": [],
   "source": [
    "y9[0] = 0\n",
    "for j in range(1, len(x9)):\n",
    "    y9[j] =  (a9[j - 1] + a9[j])/2 *0.001 + y9[j - 1] "
   ]
  },
  {
   "cell_type": "code",
   "execution_count": 188,
   "metadata": {},
   "outputs": [
    {
     "data": {
      "text/plain": [
       "Text(0,0.5,'ACUMULADO')"
      ]
     },
     "execution_count": 188,
     "metadata": {},
     "output_type": "execute_result"
    },
    {
     "data": {
      "image/png": "[encoded data removed]",
      "text/plain": [
       "<Figure size 432x288 with 1 Axes>"
      ]
     },
     "metadata": {},
     "output_type": "display_data"
    }
   ],
   "source": [
    "plt.plot(x9,y9, 'green', label=\"CDF BETA\")\n",
    "plt.plot(x9,a9, 'black', label=\"PDF BETA α = 2 y β = 5\")\n",
    "plt.legend()\n",
    "plt.xlabel(\"EJE X\")\n",
    "plt.ylabel(\"ACUMULADO\")"
   ]
  },
  {
   "cell_type": "markdown",
   "metadata": {},
   "source": [
    "## Distribucion $X^2$"
   ]
  },
  {
   "cell_type": "markdown",
   "metadata": {},
   "source": [
    "La distribución de Pearson, llamada tambien ji cuadrada(o) o chi cuadrado(a) (χ²), es una distribucion de probabilidad continua con un parametro \n",
    "'k' que representa los grados de libertad de la variable aleatoria.\n",
    "Su funcion de densidad es: $f(x; k) = \\frac{1}{2^{k/2}\\Gamma{(k/2)}}x^{(k/2)-1}e^{-x/2}$ si x>0 y 0 si x ≤ 0."
   ]
  },
  {
   "cell_type": "markdown",
   "metadata": {},
   "source": [
    "Guardamos tres valores diferentes del parametro 'k'."
   ]
  },
  {
   "cell_type": "code",
   "execution_count": 177,
   "metadata": {},
   "outputs": [],
   "source": [
    "k1 = 1\n",
    "k2 = 2\n",
    "k3 = 4"
   ]
  },
  {
   "cell_type": "markdown",
   "metadata": {},
   "source": [
    "Generamos tres arreglos 'x' para el eje de las abscisas, tres arreglos 'a' para guardar la evaluacion de la funcion de probabilidad $x^2$ y tres arreglos 'y' para guardar la funcion acumulada."
   ]
  },
  {
   "cell_type": "code",
   "execution_count": 196,
   "metadata": {},
   "outputs": [],
   "source": [
    "x10 = np.arange(0.01, 10, 0.01)\n",
    "a10 = np.empty(len(x10))\n",
    "y10 = np.empty(len(x10))\n",
    "\n",
    "x11 = np.arange(0.01, 10, 0.01)\n",
    "a11 = np.empty(len(x11))\n",
    "y11 = np.empty(len(x11))\n",
    "\n",
    "x12 = np.arange(0.01, 10, 0.01)\n",
    "a12 = np.empty(len(x12))\n",
    "y12 = np.empty(len(x12))"
   ]
  },
  {
   "cell_type": "markdown",
   "metadata": {},
   "source": [
    "Evaluamos la funcion de probabilidad $x^2$, aqui tambien usaremos la libreria 'scipy.special' para evaluar la funcion gamma. Tambien evaluamos la funcion acumulada."
   ]
  },
  {
   "cell_type": "code",
   "execution_count": 197,
   "metadata": {},
   "outputs": [],
   "source": [
    "for i in range(0, len(x10)):\n",
    "    a10[i] = (1 / (math.pow(2, k1 / 2) * scipy.special.gamma(k1 / 2))) * math.pow(x10[i], k1/2 - 1) * math.pow(math.e, -x10[i]/2)"
   ]
  },
  {
   "cell_type": "code",
   "execution_count": 198,
   "metadata": {},
   "outputs": [],
   "source": [
    "y10[0] = 0\n",
    "for j in range(1, len(x10)):\n",
    "    y10[j] =  (a10[j - 1] + a10[j])/2 *0.01 + y10[j - 1] "
   ]
  },
  {
   "cell_type": "code",
   "execution_count": null,
   "metadata": {},
   "outputs": [],
   "source": [
    "Graficamos el CDF y PDF de la funcion de probabilidad $x^2$"
   ]
  },
  {
   "cell_type": "code",
   "execution_count": 199,
   "metadata": {},
   "outputs": [
    {
     "data": {
      "text/plain": [
       "Text(0,0.5,'ACUMULADO')"
      ]
     },
     "execution_count": 199,
     "metadata": {},
     "output_type": "execute_result"
    },
    {
     "data": {
      "image/png": "[encoded data removed]",
      "text/plain": [
       "<Figure size 432x288 with 1 Axes>"
      ]
     },
     "metadata": {},
     "output_type": "display_data"
    }
   ],
   "source": [
    "plt.plot(x10,y10, 'green', label=\"CDF $x^2$\")\n",
    "plt.plot(x10,a10, 'black', label=\"PDF $x^2$ k = 1\")\n",
    "plt.legend()\n",
    "plt.xlabel(\"EJE X\")\n",
    "plt.ylabel(\"ACUMULADO\")"
   ]
  },
  {
   "cell_type": "markdown",
   "metadata": {},
   "source": [
    "### Media"
   ]
  },
  {
   "cell_type": "markdown",
   "metadata": {},
   "source": [
    "Para la distribucion $X^2$ la media esta dada por:  $μ = k$"
   ]
  },
  {
   "cell_type": "markdown",
   "metadata": {},
   "source": [
    "xmed10 = k1"
   ]
  },
  {
   "cell_type": "code",
   "execution_count": 217,
   "metadata": {},
   "outputs": [
    {
     "data": {
      "text/plain": [
       "1"
      ]
     },
     "execution_count": 217,
     "metadata": {},
     "output_type": "execute_result"
    }
   ],
   "source": [
    "xmed10"
   ]
  },
  {
   "cell_type": "markdown",
   "metadata": {},
   "source": [
    "### Mediana"
   ]
  },
  {
   "cell_type": "markdown",
   "metadata": {},
   "source": [
    "La mediana se puede aproximar con la expresion: $med ≈ k(1 - \\frac{2}{9k})^3$"
   ]
  },
  {
   "cell_type": "code",
   "execution_count": 215,
   "metadata": {},
   "outputs": [],
   "source": [
    "med10 = k1*math.pow(1-2/(9*k1),3)"
   ]
  },
  {
   "cell_type": "code",
   "execution_count": 216,
   "metadata": {},
   "outputs": [
    {
     "data": {
      "text/plain": [
       "0.4705075445816187"
      ]
     },
     "execution_count": 216,
     "metadata": {},
     "output_type": "execute_result"
    }
   ],
   "source": [
    "med10"
   ]
  },
  {
   "cell_type": "markdown",
   "metadata": {},
   "source": [
    "### Moda"
   ]
  },
  {
   "cell_type": "markdown",
   "metadata": {},
   "source": [
    "La moda (Mo) es el valor maximo entre $(k-2,0)$"
   ]
  },
  {
   "cell_type": "markdown",
   "metadata": {},
   "source": [
    "### Varianza"
   ]
  },
  {
   "cell_type": "markdown",
   "metadata": {},
   "source": [
    "La varianza para la distribucion $X^2$ se describe con la expresion: $σ^2 = 2k$"
   ]
  },
  {
   "cell_type": "code",
   "execution_count": 219,
   "metadata": {},
   "outputs": [],
   "source": [
    "var10 = 2*k1"
   ]
  },
  {
   "cell_type": "code",
   "execution_count": 220,
   "metadata": {},
   "outputs": [
    {
     "data": {
      "text/plain": [
       "2"
      ]
     },
     "execution_count": 220,
     "metadata": {},
     "output_type": "execute_result"
    }
   ],
   "source": [
    "var10"
   ]
  },
  {
   "cell_type": "markdown",
   "metadata": {},
   "source": [
    "### Desviacion estandar"
   ]
  },
  {
   "cell_type": "markdown",
   "metadata": {},
   "source": [
    "La desviacion estandar queda entonces como : $σ = \\sqrt{2k}$"
   ]
  },
  {
   "cell_type": "code",
   "execution_count": 221,
   "metadata": {},
   "outputs": [],
   "source": [
    "dest10 = math.sqrt(var10)"
   ]
  },
  {
   "cell_type": "code",
   "execution_count": 222,
   "metadata": {},
   "outputs": [
    {
     "data": {
      "text/plain": [
       "1.4142135623730951"
      ]
     },
     "execution_count": 222,
     "metadata": {},
     "output_type": "execute_result"
    }
   ],
   "source": [
    "dest10"
   ]
  },
  {
   "cell_type": "markdown",
   "metadata": {},
   "source": [
    "Repetimos para otros dos valores de 'k'."
   ]
  },
  {
   "cell_type": "code",
   "execution_count": 223,
   "metadata": {},
   "outputs": [],
   "source": [
    "for i in range(0, len(x10)):\n",
    "    a11[i] = (1 / (math.pow(2, k2 / 2) * scipy.special.gamma(k2 / 2))) * math.pow(x11[i], k2/2 - 1) * math.pow(math.e, -x11[i]/2)"
   ]
  },
  {
   "cell_type": "code",
   "execution_count": 224,
   "metadata": {},
   "outputs": [],
   "source": [
    "y11[0] = 0\n",
    "for j in range(1, len(x11)):\n",
    "    y11[j] =  (a11[j - 1] + a11[j])/2 *0.01 + y11[j - 1] "
   ]
  },
  {
   "cell_type": "code",
   "execution_count": 226,
   "metadata": {},
   "outputs": [
    {
     "data": {
      "text/plain": [
       "Text(0,0.5,'ACUMULADO')"
      ]
     },
     "execution_count": 226,
     "metadata": {},
     "output_type": "execute_result"
    },
    {
     "data": {
      "image/png": "[encoded data removed]",
      "text/plain": [
       "<Figure size 432x288 with 1 Axes>"
      ]
     },
     "metadata": {},
     "output_type": "display_data"
    }
   ],
   "source": [
    "plt.plot(x11,y11, 'green', label=\"CDF x^2\")\n",
    "plt.plot(x11,a11, 'black', label=\"PDF x^2 k = 2\")\n",
    "plt.legend()\n",
    "plt.xlabel(\"EJE X\")\n",
    "plt.ylabel(\"ACUMULADO\")"
   ]
  },
  {
   "cell_type": "code",
   "execution_count": 234,
   "metadata": {},
   "outputs": [],
   "source": [
    "for i in range(0, len(x10)):\n",
    "    a12[i] = (1 / (math.pow(2, k3 / 2) * scipy.special.gamma(k3 / 2))) * math.pow(x12[i], k3/2 - 1) * math.pow(math.e, -x12[i]/2)"
   ]
  },
  {
   "cell_type": "code",
   "execution_count": 235,
   "metadata": {},
   "outputs": [],
   "source": [
    "y12[0] = 0\n",
    "for j in range(1, len(x12)):\n",
    "    y12[j] =  (a12[j - 1] + a12[j])/2 *0.01 + y12[j - 1] "
   ]
  },
  {
   "cell_type": "code",
   "execution_count": 236,
   "metadata": {},
   "outputs": [
    {
     "data": {
      "text/plain": [
       "Text(0,0.5,'ACUMULADO')"
      ]
     },
     "execution_count": 236,
     "metadata": {},
     "output_type": "execute_result"
    },
    {
     "data": {
      "image/png": "[encoded data removed]",
      "text/plain": [
       "<Figure size 432x288 with 1 Axes>"
      ]
     },
     "metadata": {},
     "output_type": "display_data"
    }
   ],
   "source": [
    "plt.plot(x12,y12, 'green', label=\"CDF x^2\")\n",
    "plt.plot(x12,a12, 'black', label=\"PDF x^2 k = 4\")\n",
    "plt.legend()\n",
    "plt.xlabel(\"EJE X\")\n",
    "plt.ylabel(\"ACUMULADO\")"
   ]
  },
  {
   "cell_type": "markdown",
   "metadata": {},
   "source": [
    "## Distribucion normal"
   ]
  },
  {
   "cell_type": "markdown",
   "metadata": {},
   "source": [
    "La funcion de densidad de la distribucion normal queda definida por: $\\frac{1}{σ\\sqrt{2π}}e^{-\\frac{(x-μ)^2}{2σ^2}}$"
   ]
  },
  {
   "cell_type": "markdown",
   "metadata": {},
   "source": [
    "Guardamos diferentes valores  de media y desviacion estandar (μ y σ):"
   ]
  },
  {
   "cell_type": "code",
   "execution_count": 27,
   "metadata": {},
   "outputs": [],
   "source": [
    "mu1 = 0\n",
    "mu2 = -2\n",
    "sig1 =math.sqrt(5)\n",
    "sig2 = math.sqrt(0.5)"
   ]
  },
  {
   "cell_type": "code",
   "execution_count": 33,
   "metadata": {},
   "outputs": [],
   "source": [
    "x13 = np.arange(-5, 5, 0.01)\n",
    "a13 = np.empty(len(x13))\n",
    "y13 = np.empty(len(x13))\n",
    "\n",
    "x14 = np.arange(-5, 5, 0.01)\n",
    "a14 = np.empty(len(x14))\n",
    "y14 = np.empty(len(x14))"
   ]
  },
  {
   "cell_type": "markdown",
   "metadata": {},
   "source": [
    "Evaluamos la funcion de densidad de la distribucion normal y su funcion acumulada:"
   ]
  },
  {
   "cell_type": "code",
   "execution_count": 24,
   "metadata": {},
   "outputs": [],
   "source": [
    "for i in range(0, len(x13)):\n",
    "    a13[i] = (1/(sig1*math.sqrt(2*math.pi)))*math.pow(math.e,-1 * math.pow(x13[i]-mu1,2)/(2 * math.pow(sig1,2)))"
   ]
  },
  {
   "cell_type": "code",
   "execution_count": 25,
   "metadata": {},
   "outputs": [],
   "source": [
    "y13[0] = 0\n",
    "for j in range(1, len(x13)):\n",
    "    y13[j] =  (a13[j - 1] + a13[j])/2 *0.01 + y13[j - 1] "
   ]
  },
  {
   "cell_type": "code",
   "execution_count": 31,
   "metadata": {},
   "outputs": [
    {
     "data": {
      "text/plain": [
       "Text(0,0.5,'ACUMULADO')"
      ]
     },
     "execution_count": 31,
     "metadata": {},
     "output_type": "execute_result"
    },
    {
     "data": {
      "image/png": "[encoded data removed]",
      "text/plain": [
       "<Figure size 432x288 with 1 Axes>"
      ]
     },
     "metadata": {},
     "output_type": "display_data"
    }
   ],
   "source": [
    "plt.plot(x13,y13, 'green', label=\"CDF NORMAL\")\n",
    "plt.plot(x13,a13, 'black', label=\"PDF NORMAL $μ = 0, σ = 5$\")\n",
    "plt.legend()\n",
    "plt.xlabel(\"EJE X\")\n",
    "plt.ylabel(\"ACUMULADO\")"
   ]
  },
  {
   "cell_type": "markdown",
   "metadata": {},
   "source": [
    "### Media"
   ]
  },
  {
   "cell_type": "markdown",
   "metadata": {},
   "source": [
    "Media = μ "
   ]
  },
  {
   "cell_type": "markdown",
   "metadata": {},
   "source": [
    "### Mediana"
   ]
  },
  {
   "cell_type": "markdown",
   "metadata": {},
   "source": [
    "Mediana = μ "
   ]
  },
  {
   "cell_type": "markdown",
   "metadata": {},
   "source": [
    "### Moda"
   ]
  },
  {
   "cell_type": "markdown",
   "metadata": {},
   "source": [
    "Moda = μ "
   ]
  },
  {
   "cell_type": "markdown",
   "metadata": {},
   "source": [
    "### Varianza"
   ]
  },
  {
   "cell_type": "markdown",
   "metadata": {},
   "source": [
    "Varianza = $σ^2$"
   ]
  },
  {
   "cell_type": "code",
   "execution_count": 28,
   "metadata": {},
   "outputs": [],
   "source": [
    "for i in range(0, len(x14)):\n",
    "    a14[i] = (1/(sig2*math.sqrt(2*math.pi)))*math.pow(math.e,-math.pow(x14[i]-mu2,2)/(2 * sig2 ** 2))"
   ]
  },
  {
   "cell_type": "code",
   "execution_count": 29,
   "metadata": {},
   "outputs": [],
   "source": [
    "y14[0] = 0\n",
    "for j in range(1, len(x14)):\n",
    "    y14[j] =  (a14[j - 1] + a14[j])/2 *0.01 + y14[j - 1] "
   ]
  },
  {
   "cell_type": "code",
   "execution_count": 30,
   "metadata": {},
   "outputs": [
    {
     "data": {
      "text/plain": [
       "Text(0,0.5,'ACUMULADO')"
      ]
     },
     "execution_count": 30,
     "metadata": {},
     "output_type": "execute_result"
    },
    {
     "data": {
      "image/png": "[encoded data removed]",
      "text/plain": [
       "<Figure size 432x288 with 1 Axes>"
      ]
     },
     "metadata": {},
     "output_type": "display_data"
    }
   ],
   "source": [
    "plt.plot(x14,y14, 'green', label=\"CDF NORMAL\")\n",
    "plt.plot(x14,a14, 'black', label=\"PDF NORMAL $μ = -2, σ = 0.5$\")\n",
    "plt.legend()\n",
    "plt.xlabel(\"EJE X\")\n",
    "plt.ylabel(\"ACUMULADO\")"
   ]
  },
  {
   "cell_type": "markdown",
   "metadata": {},
   "source": [
    "## Distribucion exponencial"
   ]
  },
  {
   "cell_type": "markdown",
   "metadata": {},
   "source": [
    "La funcion de densidad de la distribucion exponencial viene dada por: $λe^{-λx}$"
   ]
  },
  {
   "cell_type": "markdown",
   "metadata": {},
   "source": [
    "Guardamos diferentes valores del parametro λ"
   ]
  },
  {
   "cell_type": "code",
   "execution_count": 35,
   "metadata": {},
   "outputs": [],
   "source": [
    "med15 = 0.5\n",
    "med16 = 1.5"
   ]
  },
  {
   "cell_type": "code",
   "execution_count": 55,
   "metadata": {},
   "outputs": [],
   "source": [
    "x15 = np.arange(0.001, 5, 0.01)\n",
    "a15 = np.empty(len(x15))\n",
    "y15 = np.empty(len(x15))\n",
    "\n",
    "x16 = np.arange(0.001, 5, 0.01)\n",
    "a16 = np.empty(len(x16))\n",
    "y16 = np.empty(len(x16))"
   ]
  },
  {
   "cell_type": "markdown",
   "metadata": {},
   "source": [
    "Evaluamos la funcion de densidad de la distribucion exponencial y su funcion acumulada:"
   ]
  },
  {
   "cell_type": "code",
   "execution_count": 57,
   "metadata": {},
   "outputs": [],
   "source": [
    "for i in range(0, len(x15)):\n",
    "    a15[i] = med15*math.pow(math.e,-med15*x15[i])"
   ]
  },
  {
   "cell_type": "code",
   "execution_count": 58,
   "metadata": {},
   "outputs": [],
   "source": [
    "y15[0] = 0\n",
    "for j in range(1, len(x15)):\n",
    "    y15[j] =  (a15[j - 1] + a15[j])/2 *0.01 + y15[j - 1] "
   ]
  },
  {
   "cell_type": "code",
   "execution_count": 59,
   "metadata": {},
   "outputs": [
    {
     "data": {
      "text/plain": [
       "Text(0,0.5,'ACUMULADO')"
      ]
     },
     "execution_count": 59,
     "metadata": {},
     "output_type": "execute_result"
    },
    {
     "data": {
      "image/png": "[encoded data removed]",
      "text/plain": [
       "<Figure size 432x288 with 1 Axes>"
      ]
     },
     "metadata": {},
     "output_type": "display_data"
    }
   ],
   "source": [
    "plt.plot(x15,y15, 'green', label=\"CDF EXPONENCIAL\")\n",
    "plt.plot(x15,a15, 'black', label=\"PDF EXPONENCIAL λ = 0.5\")\n",
    "plt.legend()\n",
    "plt.xlabel(\"EJE X\")\n",
    "plt.ylabel(\"ACUMULADO\")"
   ]
  },
  {
   "cell_type": "markdown",
   "metadata": {},
   "source": [
    "### Media"
   ]
  },
  {
   "cell_type": "markdown",
   "metadata": {},
   "source": [
    "La media de la distribucion exponencial viene dad por: $1/λ$"
   ]
  },
  {
   "cell_type": "code",
   "execution_count": 64,
   "metadata": {},
   "outputs": [],
   "source": [
    "media15 = 1/med15"
   ]
  },
  {
   "cell_type": "code",
   "execution_count": 66,
   "metadata": {},
   "outputs": [
    {
     "data": {
      "text/plain": [
       "2.0"
      ]
     },
     "execution_count": 66,
     "metadata": {},
     "output_type": "execute_result"
    }
   ],
   "source": [
    "media15"
   ]
  },
  {
   "cell_type": "markdown",
   "metadata": {},
   "source": [
    "### Mediana"
   ]
  },
  {
   "cell_type": "markdown",
   "metadata": {},
   "source": [
    "La mediana de la distribucion exponencial viene dad por: $Ln(2)/λ$"
   ]
  },
  {
   "cell_type": "code",
   "execution_count": 67,
   "metadata": {},
   "outputs": [],
   "source": [
    "mediana15 = math.log(2)/med15"
   ]
  },
  {
   "cell_type": "code",
   "execution_count": 68,
   "metadata": {},
   "outputs": [
    {
     "data": {
      "text/plain": [
       "1.3862943611198906"
      ]
     },
     "execution_count": 68,
     "metadata": {},
     "output_type": "execute_result"
    }
   ],
   "source": [
    "mediana15"
   ]
  },
  {
   "cell_type": "markdown",
   "metadata": {},
   "source": [
    "### Moda"
   ]
  },
  {
   "cell_type": "markdown",
   "metadata": {},
   "source": [
    "La moda de la distribucion exponencial es 0."
   ]
  },
  {
   "cell_type": "markdown",
   "metadata": {},
   "source": [
    "### Varianza"
   ]
  },
  {
   "cell_type": "markdown",
   "metadata": {},
   "source": [
    "La varianza de la distribucion exponencial es $1/λ^2$"
   ]
  },
  {
   "cell_type": "code",
   "execution_count": 74,
   "metadata": {},
   "outputs": [],
   "source": [
    "varianza15 = 1/(med15 ** 2)"
   ]
  },
  {
   "cell_type": "code",
   "execution_count": 76,
   "metadata": {},
   "outputs": [
    {
     "data": {
      "text/plain": [
       "4.0"
      ]
     },
     "execution_count": 76,
     "metadata": {},
     "output_type": "execute_result"
    }
   ],
   "source": [
    "varianza15"
   ]
  },
  {
   "cell_type": "markdown",
   "metadata": {},
   "source": [
    "### Desviacion estandar"
   ]
  },
  {
   "cell_type": "markdown",
   "metadata": {},
   "source": [
    "La desviacion estandar queda definida como: $\\sqrt{1/λ^2}$"
   ]
  },
  {
   "cell_type": "code",
   "execution_count": null,
   "metadata": {},
   "outputs": [],
   "source": [
    "dest15 = math.sqrt(varianza15)"
   ]
  },
  {
   "cell_type": "code",
   "execution_count": 80,
   "metadata": {},
   "outputs": [
    {
     "data": {
      "text/plain": [
       "2.0"
      ]
     },
     "execution_count": 80,
     "metadata": {},
     "output_type": "execute_result"
    }
   ],
   "source": [
    "dest15"
   ]
  },
  {
   "cell_type": "code",
   "execution_count": 72,
   "metadata": {},
   "outputs": [],
   "source": [
    "for i in range(0, len(x16)):\n",
    "    a16[i] = med16*math.pow(math.e,-med16*x16[i])"
   ]
  },
  {
   "cell_type": "code",
   "execution_count": 62,
   "metadata": {},
   "outputs": [],
   "source": [
    "y16[0] = 0\n",
    "for j in range(1, len(x16)):\n",
    "    y16[j] =  (a16[j - 1] + a16[j])/2 *0.01 + y16[j - 1] "
   ]
  },
  {
   "cell_type": "code",
   "execution_count": 83,
   "metadata": {},
   "outputs": [
    {
     "data": {
      "text/plain": [
       "Text(0,0.5,'ACUMULADO')"
      ]
     },
     "execution_count": 83,
     "metadata": {},
     "output_type": "execute_result"
    },
    {
     "data": {
      "image/png": "[encoded data removed]",
      "text/plain": [
       "<Figure size 432x288 with 1 Axes>"
      ]
     },
     "metadata": {},
     "output_type": "display_data"
    }
   ],
   "source": [
    "plt.plot(x16,y16, 'green', label=\"CDF EXPONENCIAL\")\n",
    "plt.plot(x16,a16, 'black', label=\"PDF EXPONENCIAL λ = 1.5\")\n",
    "plt.legend()\n",
    "plt.xlabel(\"EJE X\")\n",
    "plt.ylabel(\"ACUMULADO\")"
   ]
  },
  {
   "cell_type": "markdown",
   "metadata": {},
   "source": [
    "## Referencias"
   ]
  },
  {
   "cell_type": "markdown",
   "metadata": {},
   "source": [
    "Johnson, Norman L.; Kotz, Samuel; Balakrishnan, N. (1995). \"Chapter 21:Beta Distributions\". Continuous Univariate Distributions Vol. 2 (2nd ed.). Wiley."
   ]
  },
  {
   "cell_type": "markdown",
   "metadata": {},
   "source": [
    "Wadsworth, George P. and Joseph Bryan (1960). Introduction to Probability and Random Variables. McGraw-Hill."
   ]
  },
  {
   "cell_type": "markdown",
   "metadata": {},
   "source": [
    "Feller, William (1971). An Introduction to Probability Theory and Its Applications, Vol. 2. Wiley. "
   ]
  },
  {
   "cell_type": "markdown",
   "metadata": {},
   "source": [
    "Panik, Michael J (2005). Advanced Statistics from an Elementary Point of View. Academic Press."
   ]
  },
  {
   "cell_type": "markdown",
   "metadata": {},
   "source": [
    "Hahn, Gerald J.; Shapiro, S. (1994). Statistical Models in Engineering (Wiley Classics Library). Wiley-Interscience."
   ]
  },
  {
   "cell_type": "markdown",
   "metadata": {},
   "source": [
    "Hamza, K. (1995). The smallest uniform upper bound on the distance between the mean and the median of the binomial and Poisson distributions. Statist. Probab."
   ]
  },
  {
   "cell_type": "markdown",
   "metadata": {},
   "source": [
    "Mode, Elmer B. (1990). Elementos de probabilidad y estadística. Reverte."
   ]
  }
 ],
 "metadata": {
  "kernelspec": {
   "display_name": "Python 3",
   "language": "python",
   "name": "python3"
  },
  "language_info": {
   "codemirror_mode": {
    "name": "ipython",
    "version": 3
   },
   "file_extension": ".py",
   "mimetype": "text/x-python",
   "name": "python",
   "nbconvert_exporter": "python",
   "pygments_lexer": "ipython3",
   "version": "3.6.5"
  },
  "widgets": {
   "application/vnd.jupyter.widget-state+json": {
    "state": {},
    "version_major": 2,
    "version_minor": 0
   }
  }
 },
 "nbformat": 4,
 "nbformat_minor": 2
}
