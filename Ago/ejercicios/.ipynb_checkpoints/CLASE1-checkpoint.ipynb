{
 "cells": [
  {
   "cell_type": "markdown",
   "metadata": {},
   "source": [
    "# ESTE ES EL PRIMER NOTEBOOK DEL CURSO"
   ]
  },
  {
   "cell_type": "markdown",
   "metadata": {},
   "source": [
    "## CONTIENE INSTRUCCIONES BASICAS DE PYTHON"
   ]
  },
  {
   "cell_type": "code",
   "execution_count": 2,
   "metadata": {},
   "outputs": [],
   "source": [
    "# Aqui cargamos las liberias a usar\n",
    "\n",
    "import matplotlib.pyplot as plt\n",
    "import numpy as np\n",
    "%matplotlib inline"
   ]
  },
  {
   "cell_type": "markdown",
   "metadata": {},
   "source": [
    "## Graficando la funcion $y=x^2$"
   ]
  },
  {
   "cell_type": "code",
   "execution_count": 4,
   "metadata": {},
   "outputs": [
    {
     "name": "stdout",
     "output_type": "stream",
     "text": [
      "[-5.         -3.88888889 -2.77777778 -1.66666667 -0.55555556  0.55555556\n",
      "  1.66666667  2.77777778  3.88888889  5.        ] [25.         15.12345679  7.71604938  2.77777778  0.30864198  0.30864198\n",
      "  2.77777778  7.71604938 15.12345679 25.        ]\n",
      "[-5.  -4.6 -4.2 -3.8 -3.4 -3.  -2.6 -2.2 -1.8 -1.4 -1.  -0.6 -0.2  0.2\n",
      "  0.6  1.   1.4  1.8  2.2  2.6  3.   3.4  3.8  4.2  4.6] [-1.2500e+02 -9.7336e+01 -7.4088e+01 -5.4872e+01 -3.9304e+01 -2.7000e+01\n",
      " -1.7576e+01 -1.0648e+01 -5.8320e+00 -2.7440e+00 -1.0000e+00 -2.1600e-01\n",
      " -8.0000e-03  8.0000e-03  2.1600e-01  1.0000e+00  2.7440e+00  5.8320e+00\n",
      "  1.0648e+01  1.7576e+01  2.7000e+01  3.9304e+01  5.4872e+01  7.4088e+01\n",
      "  9.7336e+01]\n"
     ]
    }
   ],
   "source": [
    "# Creo las variables x en el rango (-5,5) y $y=x^2$\n",
    "\n",
    "x=np.linspace(-5,5,10)\n",
    "x2=np.arange(-5,5,0.4)\n",
    "y=x**2\n",
    "y2=x2**3\n",
    "print(x,y)\n",
    "print(x2,y2)"
   ]
  },
  {
   "cell_type": "code",
   "execution_count": 60,
   "metadata": {},
   "outputs": [
    {
     "data": {
      "text/plain": [
       "Text(0,0.5,'Eje Y')"
      ]
     },
     "execution_count": 60,
     "metadata": {},
     "output_type": "execute_result"
    },
    {
     "data": {
      "image/png": "[encoded data removed]",
      "text/plain": [
       "<Figure size 432x288 with 1 Axes>"
      ]
     },
     "metadata": {},
     "output_type": "display_data"
    }
   ],
   "source": [
    "# Graficar las funciones creadas e indicar nombres a los ejes, etiqueta y cambiarla de color\n",
    "\n",
    "plt.plot(x,y, 'green', label=\"Funcion ejemplo 1\")\n",
    "plt.plot(x2,y2, 'blue', label=\"Funcion ejemplo 2\")\n",
    "plt.legend()\n",
    "plt.xlabel(\"Eje X\")\n",
    "plt.ylabel(\"Eje Y\")"
   ]
  },
  {
   "cell_type": "code",
   "execution_count": 62,
   "metadata": {},
   "outputs": [
    {
     "data": {
      "text/plain": [
       "Text(0,0.5,'Eje Y')"
      ]
     },
     "execution_count": 62,
     "metadata": {},
     "output_type": "execute_result"
    },
    {
     "data": {
      "image/png": "[encoded data removed]",
      "text/plain": [
       "<Figure size 432x288 with 1 Axes>"
      ]
     },
     "metadata": {},
     "output_type": "display_data"
    }
   ],
   "source": [
    "# Cambiar el tipo de trazado\n",
    "\n",
    "plt.plot(x,y, 'or','red', label=\"Funcion ejemplo\")\n",
    "plt.xlabel(\"Eje X\")\n",
    "plt.ylabel(\"Eje Y\")"
   ]
  },
  {
   "cell_type": "code",
   "execution_count": 7,
   "metadata": {},
   "outputs": [
    {
     "data": {
      "text/plain": [
       "Text(0,0.5,'Eje Y')"
      ]
     },
     "execution_count": 7,
     "metadata": {},
     "output_type": "execute_result"
    },
    {
     "data": {
      "image/png": "[encoded data removed]",
      "text/plain": [
       "<Figure size 432x288 with 1 Axes>"
      ]
     },
     "metadata": {},
     "output_type": "display_data"
    }
   ],
   "source": [
    "# Cambiar el tipo de trazado\n",
    "\n",
    "plt.plot(x,y, 'or','black', label=\"Funcion ejemplo\")\n",
    "plt.xlabel(\"Eje X\")\n",
    "plt.ylabel(\"Eje Y\")"
   ]
  },
  {
   "cell_type": "code",
   "execution_count": 64,
   "metadata": {},
   "outputs": [
    {
     "data": {
      "text/plain": [
       "Text(0,0.5,'Eje Y')"
      ]
     },
     "execution_count": 64,
     "metadata": {},
     "output_type": "execute_result"
    },
    {
     "data": {
      "image/png": "[encoded data removed]",
      "text/plain": [
       "<Figure size 432x288 with 1 Axes>"
      ]
     },
     "metadata": {},
     "output_type": "display_data"
    }
   ],
   "source": [
    "# Cambiar el tipo de trazado\n",
    "\n",
    "plt.plot(x,y, '*','green', label=\"Funcion ejemplo\")\n",
    "plt.xlabel(\"Eje X\")\n",
    "plt.ylabel(\"Eje Y\")"
   ]
  },
  {
   "cell_type": "markdown",
   "metadata": {},
   "source": [
    "# Algunas funciones utiles"
   ]
  },
  {
   "cell_type": "code",
   "execution_count": 31,
   "metadata": {},
   "outputs": [
    {
     "data": {
      "text/plain": [
       "54.33333333333333"
      ]
     },
     "execution_count": 31,
     "metadata": {},
     "output_type": "execute_result"
    }
   ],
   "source": [
    "# Almacenar el resultado de operaciones simples para poder recuperarlos en otras celdas\n",
    "## Tambien podemos ver que al mezclar enteros con flotantes el resultado es del tipo con mayor numero de datos\n",
    "\n",
    "2+8*(29/3)-5**2.0"
   ]
  },
  {
   "cell_type": "code",
   "execution_count": 32,
   "metadata": {},
   "outputs": [
    {
     "data": {
      "text/plain": [
       "54.33333333333333"
      ]
     },
     "execution_count": 32,
     "metadata": {},
     "output_type": "execute_result"
    }
   ],
   "source": [
    "## Para recuperar el ultimo resultado obtenido usamos guion bajo _\n",
    "_"
   ]
  },
  {
   "cell_type": "code",
   "execution_count": 33,
   "metadata": {},
   "outputs": [
    {
     "data": {
      "text/plain": [
       "54.33333333333333"
      ]
     },
     "execution_count": 33,
     "metadata": {},
     "output_type": "execute_result"
    }
   ],
   "source": [
    "## Usando guion bajo e indicando el numero de renglon del resultado que queremos, obtenemos el resultado:\n",
    "\n",
    "_31"
   ]
  },
  {
   "cell_type": "code",
   "execution_count": 36,
   "metadata": {},
   "outputs": [
    {
     "data": {
      "text/plain": [
       "3"
      ]
     },
     "execution_count": 36,
     "metadata": {},
     "output_type": "execute_result"
    }
   ],
   "source": [
    "# Para convertir entre diferentes tipos numericos usamos int o float.\n",
    "## De flotante a entero:\n",
    "\n",
    "k=3.1416\n",
    "int(k)"
   ]
  },
  {
   "cell_type": "code",
   "execution_count": 37,
   "metadata": {},
   "outputs": [
    {
     "data": {
      "text/plain": [
       "5.0"
      ]
     },
     "execution_count": 37,
     "metadata": {},
     "output_type": "execute_result"
    }
   ],
   "source": [
    "## De entero a flotante:\n",
    "\n",
    "w=5\n",
    "float(w)"
   ]
  },
  {
   "cell_type": "code",
   "execution_count": 38,
   "metadata": {},
   "outputs": [
    {
     "data": {
      "text/plain": [
       "7"
      ]
     },
     "execution_count": 38,
     "metadata": {},
     "output_type": "execute_result"
    }
   ],
   "source": [
    "# Obtener maximo de una lista\n",
    "\n",
    "max(-1,2,5,-8,7,5,4)"
   ]
  },
  {
   "cell_type": "code",
   "execution_count": 39,
   "metadata": {},
   "outputs": [
    {
     "data": {
      "text/plain": [
       "-8"
      ]
     },
     "execution_count": 39,
     "metadata": {},
     "output_type": "execute_result"
    }
   ],
   "source": [
    "# Obtener minimo de una lista\n",
    "\n",
    "min(-1,2,5,-8,7,5,4)"
   ]
  },
  {
   "cell_type": "markdown",
   "metadata": {},
   "source": [
    "# Estructuras de control: condicionales"
   ]
  },
  {
   "cell_type": "markdown",
   "metadata": {},
   "source": [
    "## Los condicionales se marcan por el sangrado"
   ]
  },
  {
   "cell_type": "code",
   "execution_count": 43,
   "metadata": {},
   "outputs": [
    {
     "name": "stdout",
     "output_type": "stream",
     "text": [
      "X es menor que Y\n"
     ]
    }
   ],
   "source": [
    "# Ejemplo de if, elif (elseif) y else\n",
    "\n",
    "x,y = 3,7\n",
    "if x < y:\n",
    "    print(\"X es menor que Y\")\n",
    "# retrocedemos \n",
    "elif x == y:\n",
    "    print(\"X es igual a Y\")\n",
    "else:\n",
    "    print(\"X es mayor a Y\")"
   ]
  },
  {
   "cell_type": "markdown",
   "metadata": {},
   "source": [
    "# Bucles"
   ]
  },
  {
   "cell_type": "markdown",
   "metadata": {},
   "source": [
    "## Los bucles tambien se marcan por el sangrado"
   ]
  },
  {
   "cell_type": "code",
   "execution_count": 44,
   "metadata": {},
   "outputs": [
    {
     "name": "stdout",
     "output_type": "stream",
     "text": [
      "0\n",
      "1\n",
      "2\n",
      "3\n",
      "4\n",
      "5\n",
      "6\n",
      "7\n",
      "8\n",
      "9\n"
     ]
    }
   ],
   "source": [
    "# Ejemplo de while\n",
    "\n",
    "ii=0\n",
    "while ii<10:\n",
    "    print(ii)\n",
    "    ii+=1"
   ]
  },
  {
   "cell_type": "code",
   "execution_count": 45,
   "metadata": {},
   "outputs": [
    {
     "name": "stdout",
     "output_type": "stream",
     "text": [
      "0\n",
      "1\n",
      "2\n",
      "3\n",
      "4\n",
      "5\n"
     ]
    }
   ],
   "source": [
    "## Usar break para interrumpir el bucle\n",
    "\n",
    "ii=0\n",
    "while ii<10:\n",
    "    print(ii)\n",
    "    ii+=1\n",
    "    if ii==6:\n",
    "        break"
   ]
  },
  {
   "cell_type": "code",
   "execution_count": 46,
   "metadata": {},
   "outputs": [
    {
     "name": "stdout",
     "output_type": "stream",
     "text": [
      "0\n",
      "1\n",
      "2\n",
      "3\n",
      "4\n"
     ]
    }
   ],
   "source": [
    "# Ejemplo de For\n",
    "## range() es una función que devuelve una lista de números enteros desde 0 y del tamaño del argumento de entrada:\n",
    "\n",
    "for i in range(5):\n",
    "    print(i)"
   ]
  },
  {
   "cell_type": "code",
   "execution_count": 47,
   "metadata": {},
   "outputs": [
    {
     "name": "stdout",
     "output_type": "stream",
     "text": [
      "10\n",
      "11\n",
      "12\n",
      "13\n",
      "14\n",
      "15\n",
      "16\n",
      "17\n",
      "18\n",
      "19\n",
      "20\n"
     ]
    }
   ],
   "source": [
    "## Lista entre 10 y 20\n",
    "\n",
    "for j in range(10, 21):\n",
    "    print(j)"
   ]
  },
  {
   "cell_type": "markdown",
   "metadata": {},
   "source": [
    "# Definicion de funciones"
   ]
  },
  {
   "cell_type": "code",
   "execution_count": 2,
   "metadata": {},
   "outputs": [],
   "source": [
    "# Usamos 'def' + el nombre de la funcion y entre parentesis las variables de entrada, tambien debeoms agregar dos puntos al final.\n",
    "## Agregamos una oracion entre *** [] *** para agregar un cuadro de dialogo que describa la funcion posteriormente.\n",
    "\n",
    "def funcion(x):\n",
    "    \"\"\"Funcion que eleva un numero al cuadrado\"\"\"\n",
    "    y=x**2\n",
    "    return y"
   ]
  },
  {
   "cell_type": "code",
   "execution_count": 4,
   "metadata": {},
   "outputs": [
    {
     "data": {
      "text/plain": [
       "16"
      ]
     },
     "execution_count": 4,
     "metadata": {},
     "output_type": "execute_result"
    }
   ],
   "source": [
    "funcion(4)"
   ]
  },
  {
   "cell_type": "code",
   "execution_count": 8,
   "metadata": {},
   "outputs": [],
   "source": [
    "## Ejemplo de una funcion con valor un valor por defecto.\n",
    "\n",
    "def multiplica(x,y=5.0):\n",
    "    \"\"\"Funcion que ejecuta una multiplicacion de dos numeros; si solo tiene un dato de entrada, el segundo se define por defecto\"\"\"\n",
    "    return x*y"
   ]
  },
  {
   "cell_type": "code",
   "execution_count": 9,
   "metadata": {},
   "outputs": [
    {
     "data": {
      "text/plain": [
       "6"
      ]
     },
     "execution_count": 9,
     "metadata": {},
     "output_type": "execute_result"
    }
   ],
   "source": [
    "multiplica(2,3)"
   ]
  },
  {
   "cell_type": "code",
   "execution_count": 10,
   "metadata": {},
   "outputs": [
    {
     "data": {
      "text/plain": [
       "25.0"
      ]
     },
     "execution_count": 10,
     "metadata": {},
     "output_type": "execute_result"
    }
   ],
   "source": [
    "multiplica(5)"
   ]
  },
  {
   "cell_type": "markdown",
   "metadata": {},
   "source": [
    "## Ejemplo de funcion con un bucle y condicionales"
   ]
  },
  {
   "cell_type": "markdown",
   "metadata": {},
   "source": [
    "### La siguiente funcion recibe como argumento un numero y revisa desde 0 hasta el valor del argumento si los numeros intermedios son multiplos de 3 o de 5, si no son multiplos de ninguno solo imprime el valor revisado"
   ]
  },
  {
   "cell_type": "code",
   "execution_count": 16,
   "metadata": {},
   "outputs": [],
   "source": [
    "def hola(x):\n",
    "    for i in range(0,x+1):\n",
    "        if i % 3 == 0:\n",
    "            print(\"El numero es multiplo de 3\")\n",
    "        elif i % 5 == 0:\n",
    "            print(\"El numero es multiplo de 5\")\n",
    "        else:\n",
    "            print(i)"
   ]
  },
  {
   "cell_type": "code",
   "execution_count": 17,
   "metadata": {},
   "outputs": [
    {
     "name": "stdout",
     "output_type": "stream",
     "text": [
      "El numero es multiplo de 3\n",
      "1\n",
      "2\n"
     ]
    }
   ],
   "source": [
    "hola(2)"
   ]
  },
  {
   "cell_type": "code",
   "execution_count": 18,
   "metadata": {},
   "outputs": [
    {
     "name": "stdout",
     "output_type": "stream",
     "text": [
      "El numero es multiplo de 3\n",
      "1\n",
      "2\n",
      "El numero es multiplo de 3\n",
      "4\n",
      "El numero es multiplo de 5\n",
      "El numero es multiplo de 3\n",
      "7\n",
      "8\n"
     ]
    }
   ],
   "source": [
    "hola(8)"
   ]
  },
  {
   "cell_type": "markdown",
   "metadata": {},
   "source": [
    "# Manejo de arreglos con el paquete numpy"
   ]
  },
  {
   "cell_type": "markdown",
   "metadata": {},
   "source": [
    "## Para crear un array la forma mas directa es pasarle una secuencia a la funcion np.array. Ejemplo:"
   ]
  },
  {
   "cell_type": "code",
   "execution_count": 8,
   "metadata": {},
   "outputs": [
    {
     "data": {
      "text/plain": [
       "array([1, 2, 3])"
      ]
     },
     "execution_count": 8,
     "metadata": {},
     "output_type": "execute_result"
    }
   ],
   "source": [
    "np.array([1, 2, 3])"
   ]
  },
  {
   "cell_type": "markdown",
   "metadata": {},
   "source": [
    "## Notas:\n",
    "1.-Utilizar arreglos es mas eficiente que utilizar bucles.\n",
    "2.-Eliminar bucles y usar arreglos significa vectorizar operaciones.\n",
    "3.-Los bucles se ejecutan en Python, las operaciones vectorizadas en C.\n",
    "4.-Las operaciones entre arrays de numpy se realizan elemento a elemento."
   ]
  },
  {
   "cell_type": "markdown",
   "metadata": {},
   "source": [
    "## Ejemplo de eficiencia al vectorizar operaciones"
   ]
  },
  {
   "cell_type": "markdown",
   "metadata": {},
   "source": [
    "En el siguiente ejemplo crearemos dos arreglos de numeros \"b\" y \"c\" con valores aleatorios de una distribucion normal y arreglados en una matriz de 100x100 cada uno para realizar una suma entre los arreglos mediante un bucle y mediante operaciones vectorizadas. Usaremos la funcion %%timeit para medir el tiempo que tarda la computadora en hacer la suma de los arreglos con distintos metodos."
   ]
  },
  {
   "cell_type": "code",
   "execution_count": 18,
   "metadata": {},
   "outputs": [],
   "source": [
    "N, M = 100,100\n",
    "a = np.empty(10000).reshape(N,M)\n",
    "b = np.random.rand(10000).reshape(N, M)\n",
    "c = np.random.rand(10000).reshape(N, M)"
   ]
  },
  {
   "cell_type": "code",
   "execution_count": 20,
   "metadata": {},
   "outputs": [
    {
     "name": "stdout",
     "output_type": "stream",
     "text": [
      "9.51 ms ± 558 µs per loop (mean ± std. dev. of 7 runs, 100 loops each)\n"
     ]
    }
   ],
   "source": [
    "%%timeit\n",
    "for i in range(N):\n",
    "    for j in range(M):\n",
    "        a[i, j] = b[i, j] + c[i, j]"
   ]
  },
  {
   "cell_type": "code",
   "execution_count": 21,
   "metadata": {},
   "outputs": [
    {
     "name": "stdout",
     "output_type": "stream",
     "text": [
      "15.5 µs ± 374 ns per loop (mean ± std. dev. of 7 runs, 100000 loops each)\n"
     ]
    }
   ],
   "source": [
    "%%timeit\n",
    "a = b + c"
   ]
  },
  {
   "cell_type": "markdown",
   "metadata": {},
   "source": [
    "### Como podemos ver, para este ejemplo la diferencia de tiempo entre usar un bucle y una suma vectorizada es de un orden 1000 veces menor. Numpy tiene estructuras muy optimizadas para realizar las mismas operaciones en un menor tiempo que python."
   ]
  }
 ],
 "metadata": {
  "kernelspec": {
   "display_name": "Python 3",
   "language": "python",
   "name": "python3"
  },
  "language_info": {
   "codemirror_mode": {
    "name": "ipython",
    "version": 3
   },
   "file_extension": ".py",
   "mimetype": "text/x-python",
   "name": "python",
   "nbconvert_exporter": "python",
   "pygments_lexer": "ipython3",
   "version": "3.6.5"
  }
 },
 "nbformat": 4,
 "nbformat_minor": 2
}
