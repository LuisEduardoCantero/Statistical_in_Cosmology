{
 "cells": [
  {
   "cell_type": "markdown",
   "metadata": {},
   "source": [
    "# Transformacion de variables"
   ]
  },
  {
   "cell_type": "code",
   "execution_count": 4,
   "metadata": {},
   "outputs": [],
   "source": [
    "# Aqui cargamos las liberias a usar\n",
    "\n",
    "import matplotlib.pyplot as plt\n",
    "import scipy.special\n",
    "import numpy as np\n",
    "import math\n",
    "import random"
   ]
  },
  {
   "cell_type": "markdown",
   "metadata": {},
   "source": [
    "## Ejercicio 1"
   ]
  },
  {
   "cell_type": "markdown",
   "metadata": {},
   "source": [
    "Si $y = Φ(x) = exp(x)$ y p(x)=1 para $0 ≤ x ≤ 1$ (una distribucion uniforme). Cual es la distribucion resultante para y."
   ]
  },
  {
   "cell_type": "markdown",
   "metadata": {},
   "source": [
    "Si $y = Φ(x) = exp(x)$ la funcion inversa de y es:"
   ]
  },
  {
   "cell_type": "markdown",
   "metadata": {},
   "source": [
    "$ Φ^{-1}(y) = ln(x)$"
   ]
  },
  {
   "cell_type": "markdown",
   "metadata": {},
   "source": [
    "y su derivada es:"
   ]
  },
  {
   "cell_type": "markdown",
   "metadata": {},
   "source": [
    "$\\frac{dΦ^{-1}(y)}{dy} = \\frac{1}{x}$"
   ]
  },
  {
   "cell_type": "markdown",
   "metadata": {},
   "source": [
    "La distribucion resultante para y es: $p(y) = p[Φ^{-1}(y)]abs(\\frac{dΦ^-1(y)}{dy})$"
   ]
  },
  {
   "cell_type": "markdown",
   "metadata": {},
   "source": [
    "$p(y) = ln(x) * abs(1/x)$"
   ]
  },
  {
   "cell_type": "code",
   "execution_count": 15,
   "metadata": {},
   "outputs": [],
   "source": [
    "x1 = np.arange(.1,10,0.001)\n",
    "p = np.empty(len(x1))\n",
    "for j in range(0, len(x1)):\n",
    "    p[j] = math.log(x1[j]) * math.fabs(1/x1[j])"
   ]
  },
  {
   "cell_type": "code",
   "execution_count": 17,
   "metadata": {},
   "outputs": [
    {
     "data": {
      "text/plain": [
       "Text(0,0.5,'p(y)')"
      ]
     },
     "execution_count": 17,
     "metadata": {},
     "output_type": "execute_result"
    },
    {
     "data": {
      "image/png": "[encoded data removed]",
      "text/plain": [
       "<Figure size 432x288 with 1 Axes>"
      ]
     },
     "metadata": {},
     "output_type": "display_data"
    }
   ],
   "source": [
    "plt.plot(x1,p, \"*\")\n",
    "plt.xlabel(\"X\")\n",
    "plt.ylabel(\"p(y)\")"
   ]
  },
  {
   "cell_type": "markdown",
   "metadata": {},
   "source": [
    "## Ejercicio 2"
   ]
  },
  {
   "cell_type": "markdown",
   "metadata": {},
   "source": [
    "Si el flujo, sigue una distribución Gaussiana, ¿cómo es la distribución en magnitud?. Usa un método de muestreo para reproducir las gráficas."
   ]
  },
  {
   "cell_type": "code",
   "execution_count": 14,
   "metadata": {},
   "outputs": [],
   "source": [
    "def ex(x,sigm,mu):\n",
    "    return ((1/(sigm*pow(2*np.pi,0.5)))*np.exp(-(pow((x-mu),2))/(2*pow(sigm,2))))"
   ]
  },
  {
   "cell_type": "code",
   "execution_count": 15,
   "metadata": {},
   "outputs": [],
   "source": [
    "flx=[]\n",
    "pflx=[]\n",
    "s=5/(8*pow(2*np.pi,0.5))\n",
    "m=1\n",
    "\n",
    "for i in range(1000):\n",
    "    x=random.randrange(0,2000000)/1000000\n",
    "    flx.append(x)\n",
    "\n",
    "for i in range(len(flx)):\n",
    "    pflx.append(ex(flx[i],s,m))"
   ]
  },
  {
   "cell_type": "code",
   "execution_count": 24,
   "metadata": {},
   "outputs": [
    {
     "data": {
      "image/png": "[encoded data removed]",
      "text/plain": [
       "<Figure size 432x288 with 1 Axes>"
      ]
     },
     "metadata": {},
     "output_type": "display_data"
    }
   ],
   "source": [
    "plt.plot(flx,pflx,'g,')\n",
    "plt.xlabel(\"flux\")\n",
    "plt.ylabel(\"$P(flux)$\")\n",
    "plt.show()"
   ]
  },
  {
   "cell_type": "code",
   "execution_count": 25,
   "metadata": {},
   "outputs": [],
   "source": [
    "def ex3(x,sigm,mu):\n",
    "    return ((1/(sigm*pow(2*np.pi,0.5)))*np.exp(-(pow((x-mu),2))/(2*pow(sigm,2)))) \n",
    "\n",
    "def jacobiano(x):\n",
    "    return ((2/5)*math.log1p(10)*np.exp(-2*(math.log1p(10)*x)/5)) "
   ]
  },
  {
   "cell_type": "code",
   "execution_count": 26,
   "metadata": {},
   "outputs": [],
   "source": [
    "mag=[]\n",
    "Pmag=[]\n",
    "s=5/(8*pow(2*np.pi,0.5))\n",
    "m=1\n",
    "for i in range(1000):\n",
    "    x=random.randrange(0,200000)/100000\n",
    "    mag.append(-2.5*math.log10(x))\n",
    "\n",
    "for i in range(len(mag)):  \n",
    "        Pmag.append(ex3((pow(10,(-2*mag[i]/5))),s,m)*jacobiano(mag[i])) "
   ]
  },
  {
   "cell_type": "code",
   "execution_count": 28,
   "metadata": {},
   "outputs": [
    {
     "data": {
      "image/png": "[encoded data removed]",
      "text/plain": [
       "<Figure size 432x288 with 1 Axes>"
      ]
     },
     "metadata": {},
     "output_type": "display_data"
    }
   ],
   "source": [
    "plt.plot(mag,Pmag,'g,')\n",
    "plt.xlim(-1,1.2)\n",
    "plt.xlabel(\"mag\")\n",
    "plt.ylabel(\"$P(mag)$\")\n",
    "plt.show()"
   ]
  },
  {
   "cell_type": "code",
   "execution_count": null,
   "metadata": {},
   "outputs": [],
   "source": []
  }
 ],
 "metadata": {
  "kernelspec": {
   "display_name": "Python 3",
   "language": "python",
   "name": "python3"
  },
  "language_info": {
   "codemirror_mode": {
    "name": "ipython",
    "version": 3
   },
   "file_extension": ".py",
   "mimetype": "text/x-python",
   "name": "python",
   "nbconvert_exporter": "python",
   "pygments_lexer": "ipython3",
   "version": "3.6.5"
  }
 },
 "nbformat": 4,
 "nbformat_minor": 2
}
