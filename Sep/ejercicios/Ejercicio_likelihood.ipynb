{
 "cells": [
  {
   "cell_type": "markdown",
   "metadata": {},
   "source": [
    "# Encuentra los parametros cosmologicos con datos de supernovas "
   ]
  },
  {
   "cell_type": "markdown",
   "metadata": {},
   "source": [
    "Desde fines de la década de 1990, cuando comenzo a presentarse evidencia de que la expansión del universo se está acelerando, las observaciones de supernovas de tipo Ia (SNeIa) han sido una de nuestras herramientas más importantes para medir la expansión cósmica en función del tiempo. Dado que una medida precisa de la evolución del factor de escala es probablemente la clave para caracterizar la energía oscura o establecer que la relatividad general debe modificarse en escalas cosmológicas, los datos limitados que nuestro universo nos brinda deben utilizarse con la mayor ventaja posible. Un elemento importante de esa tarea es el análisis estadístico más cuidadoso posible de los datos."
   ]
  },
  {
   "cell_type": "markdown",
   "metadata": {},
   "source": [
    "El supuesto fundamental que subyace en el pasado y el uso propuesto de las SNeIa para medir el historial de expansión es que son \"velas estandartizadas\". Es posible que ocurran cuando el material que se adhiere a una enana blanca de un compañero conduce la masa de la enana blanca por encima del máximo que puede soportar la presión de degeneración electrónica, el límite de Chandrasekhar de aproximadamente 1.4 masas solares. Debido a que el colapso ocurre en una masa crítica particular, todos los SNeIa son similares. Sin embargo, la variabilidad en varios factores, incluyendo la composición, la tasa de rotación y la tasa de acreción, puede llevar a diferencias mensurables en los observables de SN como una función del tiempo. De hecho, la magnitud intrínseca de la SNeIa cercana, cuyas distancias se conocen a través de medios independientes, muestra una dispersión bastante grande."
   ]
  },
  {
   "cell_type": "markdown",
   "metadata": {},
   "source": [
    "$\\mu$ es el modulo de distancia de la supernva definido como:\n",
    "$\\mu = 25 - 5log_{10}h+5log_{10}(D^*_L)$\n",
    "\n",
    "    "
   ]
  },
  {
   "cell_type": "markdown",
   "metadata": {},
   "source": [
    "Donde $D^*_L = D_L(h=1)$ es la distancia luminosa que para un universo plano se puede definir como: $D_L(z) = \\frac{c}{H0}(1+z)\\left[\\eta(1,\\Omega_m)-\\eta(\\frac{1}{1+z},\\Omega_m)\\right]$,"
   ]
  },
  {
   "cell_type": "markdown",
   "metadata": {},
   "source": [
    "con $\\eta(a,\\Omega_m) = 2\\sqrt{s^3+1}\\left[\\frac{1}{a^4}-0.1540\\frac{s}{a^3} + 0.4304\\frac{s^2}{a^2} + 0.19097\\frac{s^3}{a} + 0.066941s^4\\right]^{-1/8}$"
   ]
  },
  {
   "cell_type": "markdown",
   "metadata": {},
   "source": [
    "y: $s^3=(1-\\Omega_m)/\\Omega_m$"
   ]
  },
  {
   "cell_type": "code",
   "execution_count": 1,
   "metadata": {},
   "outputs": [
    {
     "name": "stdout",
     "output_type": "stream",
     "text": [
      "Populating the interactive namespace from numpy and matplotlib\n"
     ]
    }
   ],
   "source": [
    "# Importamos librerias\n",
    "%pylab inline\n",
    "import numpy as np\n",
    "import emcee\n",
    "import matplotlib.pyplot as plt\n",
    "import scipy.stats as st\n",
    "import math\n",
    "import random\n",
    "import scipy.optimize as op\n",
    "import corner\n",
    "plt.style.use('classic')"
   ]
  },
  {
   "cell_type": "code",
   "execution_count": 2,
   "metadata": {},
   "outputs": [],
   "source": [
    "data = np.loadtxt('jla_mub.txt').T\n",
    "cov_mat = np.loadtxt('jla_mub_covmatrix.dat').T\n",
    "cov_mat = np.reshape(cov_mat,(-1,31))\n",
    "invcov = np.linalg.inv(cov_mat)\n",
    "H0 = 100\n",
    "c = 3e5"
   ]
  },
  {
   "cell_type": "markdown",
   "metadata": {},
   "source": [
    "### Construimos las funciones para evaluar el modelo:"
   ]
  },
  {
   "cell_type": "code",
   "execution_count": 3,
   "metadata": {},
   "outputs": [],
   "source": [
    "def eta(a, Om):\n",
    "    s3 = (1-Om)/Om \n",
    "    s2 = s3**(2/3)\n",
    "    s = s3**(1/3)\n",
    "    return 2*np.sqrt(s3+1)*((1/(a**4))-0.1540*s/(a**3)+0.4304*s2/(a**2)+0.19097*s3/a+(0.06694*s**4))**(-1/8)\n",
    "\n",
    "def DL(z, H0, Om):\n",
    "    return (c/H0)*(1+z)*(eta(1, Om)-eta(1/(1+z),Om))\n",
    "\n",
    "def mu(z,H0,Om):\n",
    "    return 25-5*np.log10(H0/100)+5*np.log10(DL(z, H0, Om))\n"
   ]
  },
  {
   "cell_type": "code",
   "execution_count": 4,
   "metadata": {},
   "outputs": [
    {
     "data": {
      "text/plain": [
       "<matplotlib.collections.PathCollection at 0x7fdc59515cf8>"
      ]
     },
     "execution_count": 4,
     "metadata": {},
     "output_type": "execute_result"
    },
    {
     "data": {
      "image/png": "[encoded data removed]",
      "text/plain": [
       "<Figure size 432x288 with 1 Axes>"
      ]
     },
     "metadata": {},
     "output_type": "display_data"
    }
   ],
   "source": [
    "# Graficamos un conjuntp de datos\n",
    "plot(data[0],mu(data[0],70,0.3))\n",
    "scatter(data[0], data[1])"
   ]
  },
  {
   "cell_type": "markdown",
   "metadata": {},
   "source": [
    "### Definimos una funcion para el Likelihood y una funcion para la cadena de Markov - Monte Carlo"
   ]
  },
  {
   "cell_type": "markdown",
   "metadata": {},
   "source": [
    "Likelihood:"
   ]
  },
  {
   "cell_type": "markdown",
   "metadata": {},
   "source": [
    "$\\mathcal{L} \\propto \\prod_i^n \\frac{1}{2\\pi\\sigma_i^2}\\exp\\left[ -\\frac{(x_i -\\mu)^2}{2\\sigma_i^2} \\right]$"
   ]
  },
  {
   "cell_type": "markdown",
   "metadata": {},
   "source": [
    "Logaritmo del Likelihood: "
   ]
  },
  {
   "cell_type": "markdown",
   "metadata": {},
   "source": [
    "$\\ln(\\mathcal{L}) \\propto -\\sum_i^n \\left[\\frac{(x_i -\\mu)^2}{2\\sigma_i^2} \\right]$"
   ]
  },
  {
   "cell_type": "code",
   "execution_count": 21,
   "metadata": {},
   "outputs": [],
   "source": [
    "def lnlh(theta):\n",
    "    modelo=mu(data[0], theta[0],theta[1])\n",
    "    diferencia = data[1]-modelo\n",
    "    u=0\n",
    "    u = np.dot(diferencia, invcov)\n",
    "    u = np.dot(u,diferencia.T)\n",
    "    u = -0.5 * np.sum(u)\n",
    "    return u\n",
    "\n",
    "def Markov(theta1, thetap):\n",
    "    p1 = lnlh(theta1)\n",
    "    pp = lnlh(thetap)\n",
    "    if(pp>p1):\n",
    "        return thetap\n",
    "    else:\n",
    "        w = np.random.rand()\n",
    "        if(pp-p1>np.log(w)):\n",
    "            return thetap\n",
    "        else:\n",
    "            return theta1\n",
    "    return"
   ]
  },
  {
   "cell_type": "code",
   "execution_count": 174,
   "metadata": {},
   "outputs": [
    {
     "name": "stderr",
     "output_type": "stream",
     "text": [
      "/home/luiscantero/anaconda3/lib/python3.6/site-packages/ipykernel_launcher.py:3: RuntimeWarning: invalid value encountered in double_scalars\n",
      "  This is separate from the ipykernel package so we can avoid doing imports until\n",
      "/home/luiscantero/anaconda3/lib/python3.6/site-packages/ipykernel_launcher.py:4: RuntimeWarning: invalid value encountered in double_scalars\n",
      "  after removing the cwd from sys.path.\n",
      "/home/luiscantero/anaconda3/lib/python3.6/site-packages/ipykernel_launcher.py:5: RuntimeWarning: invalid value encountered in sqrt\n",
      "  \"\"\"\n"
     ]
    }
   ],
   "source": [
    "Nmuestras = 1000\n",
    "sigma1 = 1\n",
    "sigma2 = 0.1\n",
    "\n",
    "Ncadenas = 8\n",
    "thetas = [50,0.3]\n",
    "cadenas = []\n",
    "\n",
    "for j in range(Ncadenas):\n",
    "    thetas = np.array([np.random.normal(np.random.uniform(50, 100), sigma1), np.random.normal(thetas[1], sigma2)])\n",
    "    for i in range(Nmuestras):\n",
    "        if i==0:\n",
    "            cadena = thetas\n",
    "        else:\n",
    "            thetat = np.array([np.random.normal(thetas[0], sigma1), np.random.normal(thetas[1], sigma2)])\n",
    "            thetanuevo = Markov(thetas, thetat)\n",
    "            cadena = np.vstack((cadena, thetanuevo))\n",
    "            thetas = thetanuevo\n",
    "    if j==0:\n",
    "        cadenas = cadena\n",
    "    else:\n",
    "        cadenas = np.vstack((cadenas, cadena))"
   ]
  },
  {
   "cell_type": "code",
   "execution_count": 178,
   "metadata": {},
   "outputs": [],
   "source": [
    "x1 = cadenas[0:Nmuestras,0]\n",
    "y1 = cadenas[0:Nmuestras,1]\n",
    "x2 = cadenas[Nmuestras+1:Nmuestras*2,0]\n",
    "y2 = cadenas[Nmuestras+1:Nmuestras*2,1]\n",
    "x3 = cadenas[2*Nmuestras+1:Nmuestras*3,0]\n",
    "y3 = cadenas[2*Nmuestras+1:Nmuestras*3,1]\n",
    "x4 = cadenas[3*Nmuestras+1:Nmuestras*4,0]\n",
    "y4 = cadenas[3*Nmuestras+1:Nmuestras*4,1]\n",
    "x5 = cadenas[4*Nmuestras+1:Nmuestras*5,0]\n",
    "y5 = cadenas[4*Nmuestras+1:Nmuestras*5,1]\n",
    "x6 = cadenas[5*Nmuestras+1:Nmuestras*6,0]\n",
    "y6 = cadenas[5*Nmuestras+1:Nmuestras*6,1]\n",
    "x7 = cadenas[6*Nmuestras+1:Nmuestras*7,0]\n",
    "y7 = cadenas[6*Nmuestras+1:Nmuestras*7,1]\n",
    "x8 = cadenas[7*Nmuestras+1:Nmuestras*8,0]\n",
    "y8 = cadenas[7*Nmuestras+1:Nmuestras*8,1]"
   ]
  },
  {
   "cell_type": "markdown",
   "metadata": {},
   "source": [
    "### Graficamos las cadenas generadas"
   ]
  },
  {
   "cell_type": "code",
   "execution_count": 180,
   "metadata": {},
   "outputs": [
    {
     "data": {
      "text/plain": [
       "<matplotlib.collections.PathCollection at 0x7f3ca7b2d630>"
      ]
     },
     "execution_count": 180,
     "metadata": {},
     "output_type": "execute_result"
    },
    {
     "data": {
      "image/png": "[encoded data removed]",
      "text/plain": [
       "<Figure size 432x288 with 1 Axes>"
      ]
     },
     "metadata": {},
     "output_type": "display_data"
    }
   ],
   "source": [
    "plt.scatter(x1, y1, color = 'g')\n",
    "plt.scatter(x2, y2, color = 'r')\n",
    "plt.scatter(x3, y3, color = 'y')\n",
    "plt.scatter(x4, y4, color = 'b')\n",
    "plt.scatter(x5, y5, color = 'c')\n",
    "plt.scatter(x6, y6, color = 'm')\n",
    "plt.scatter(x7, y7, color = 'k')\n",
    "plt.scatter(x8, y8, color = 'w')"
   ]
  },
  {
   "cell_type": "code",
   "execution_count": 184,
   "metadata": {},
   "outputs": [
    {
     "data": {
      "text/plain": [
       "(0.15, 0.5)"
      ]
     },
     "execution_count": 184,
     "metadata": {},
     "output_type": "execute_result"
    },
    {
     "data": {
      "image/png": "[encoded data removed]",
      "text/plain": [
       "<Figure size 432x288 with 1 Axes>"
      ]
     },
     "metadata": {},
     "output_type": "display_data"
    }
   ],
   "source": [
    "plt.scatter(x1, y1, color = 'g')\n",
    "plt.scatter(x2, y2, color = 'r')\n",
    "plt.scatter(x3, y3, color = 'y')\n",
    "plt.scatter(x4, y4, color = 'b')\n",
    "plt.scatter(x5, y5, color = 'c')\n",
    "plt.scatter(x6, y6, color = 'm')\n",
    "plt.scatter(x7, y7, color = 'k')\n",
    "plt.scatter(x8, y8, color = 'w')\n",
    "plt.xlim(80, 88)\n",
    "plt.ylim(0.15, 0.5)"
   ]
  }
 ],
 "metadata": {
  "kernelspec": {
   "display_name": "Python 3",
   "language": "python",
   "name": "python3"
  },
  "language_info": {
   "codemirror_mode": {
    "name": "ipython",
    "version": 3
   },
   "file_extension": ".py",
   "mimetype": "text/x-python",
   "name": "python",
   "nbconvert_exporter": "python",
   "pygments_lexer": "ipython3",
   "version": "3.6.5"
  }
 },
 "nbformat": 4,
 "nbformat_minor": 2
}
