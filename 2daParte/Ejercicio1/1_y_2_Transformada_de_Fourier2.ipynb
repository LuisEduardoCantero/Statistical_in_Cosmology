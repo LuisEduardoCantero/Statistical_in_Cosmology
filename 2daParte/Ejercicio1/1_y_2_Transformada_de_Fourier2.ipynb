{
 "cells": [
  {
   "cell_type": "markdown",
   "metadata": {},
   "source": [
    "# Transformada de Fourier"
   ]
  },
  {
   "cell_type": "code",
   "execution_count": 1,
   "metadata": {},
   "outputs": [],
   "source": [
    "# Aqui cargamos las liberias a usar\n",
    "from matplotlib import pyplot\n",
    "from mpl_toolkits.mplot3d import Axes3D\n",
    "import matplotlib.pyplot as plt\n",
    "import scipy.special\n",
    "from scipy.integrate import odeint\n",
    "import numpy as np\n",
    "from numpy.fft import fft, fftfreq, ifft\n",
    "import math\n",
    "from ipykernel import kernelapp as app"
   ]
  },
  {
   "cell_type": "markdown",
   "metadata": {},
   "source": [
    "### Codigo personal para la transformada de Fourier"
   ]
  },
  {
   "cell_type": "markdown",
   "metadata": {},
   "source": [
    "Definimos la funcion que sera transformada (una gaussiana) y la evaluamos en el rango de -10 a 10. Usamos $\\mu$ = 0 y $\\sigma$ = 2."
   ]
  },
  {
   "cell_type": "code",
   "execution_count": 2,
   "metadata": {},
   "outputs": [],
   "source": [
    "def gaus (x, mu, sig):\n",
    "    w = (1./(np.sqrt(2. * np.pi) * sig)) * np.exp((1./2) * (-np.power(x - mu, 2.) / (2 * np.power(sig, 2.))))\n",
    "    return w"
   ]
  },
  {
   "cell_type": "code",
   "execution_count": 18,
   "metadata": {},
   "outputs": [],
   "source": [
    "n = 1000\n",
    "amp = np.empty(n, dtype=complex)\n",
    "x = np.linspace(-100, 100, n)\n",
    "mu, delta = 0, .5\n",
    "y = gaus(x,mu,delta)"
   ]
  },
  {
   "cell_type": "markdown",
   "metadata": {},
   "source": [
    "Graficamos la funcion gaussiana."
   ]
  },
  {
   "cell_type": "code",
   "execution_count": 19,
   "metadata": {},
   "outputs": [
    {
     "data": {
      "text/plain": [
       "Text(0,0.5,'$y$')"
      ]
     },
     "execution_count": 19,
     "metadata": {},
     "output_type": "execute_result"
    },
    {
     "data": {
      "image/png": "[encoded data removed]",
      "text/plain": [
       "<Figure size 432x288 with 1 Axes>"
      ]
     },
     "metadata": {},
     "output_type": "display_data"
    }
   ],
   "source": [
    "plt.plot(x,y, color = 'g')\n",
    "plt.xlabel(\"$x$\",fontsize = 15)\n",
    "plt.ylabel(\"$y$\",fontsize = 15)"
   ]
  },
  {
   "cell_type": "markdown",
   "metadata": {},
   "source": [
    "## Metodo 1 para la transformada de Fourier"
   ]
  },
  {
   "cell_type": "markdown",
   "metadata": {},
   "source": [
    "Usamos la siguiente expresion para encontrar la tranformada y definimos una funcion que la evalue:"
   ]
  },
  {
   "cell_type": "markdown",
   "metadata": {},
   "source": [
    "$X(K) = \\sum_{n=0}^{N-1} (Xn) e^{\\frac{-j2\\pi Kn}{N}}$"
   ]
  },
  {
   "cell_type": "markdown",
   "metadata": {},
   "source": [
    "Donde:"
   ]
  },
  {
   "cell_type": "markdown",
   "metadata": {},
   "source": [
    "X(K): Valor de la transformada discreta de Fourier  \n",
    "N: Numero de muestras  \n",
    "K: Frecuencia  \n",
    "n: numero de muestra(Se incrementa cada termino)"
   ]
  },
  {
   "cell_type": "code",
   "execution_count": 3,
   "metadata": {},
   "outputs": [],
   "source": [
    "def amplitud (fun, n, i):\n",
    "    u = 0\n",
    "    for j in range(0, n):\n",
    "        a = fun[j] * np.exp(-complex(0,1) * 2 * np.pi * i * j / (n))\n",
    "        u = u + a\n",
    "    return u"
   ]
  },
  {
   "cell_type": "markdown",
   "metadata": {},
   "source": [
    "Evaluamos para cada punto en la distribucion"
   ]
  },
  {
   "cell_type": "code",
   "execution_count": 24,
   "metadata": {},
   "outputs": [],
   "source": [
    "for i in range(0, n):\n",
    "    amp[i] = amplitud(y, n, i)"
   ]
  },
  {
   "cell_type": "markdown",
   "metadata": {},
   "source": [
    "Graficamos la transformada, es necesario hacer una transformacion para las frecuencias tambien."
   ]
  },
  {
   "cell_type": "code",
   "execution_count": 25,
   "metadata": {},
   "outputs": [
    {
     "data": {
      "text/plain": [
       "Text(0,0.5,'$Amplitud$')"
      ]
     },
     "execution_count": 25,
     "metadata": {},
     "output_type": "execute_result"
    },
    {
     "data": {
      "image/png": "[encoded data removed]",
      "text/plain": [
       "<Figure size 1080x360 with 1 Axes>"
      ]
     },
     "metadata": {},
     "output_type": "display_data"
    }
   ],
   "source": [
    "xf = np.fft.fftfreq(np.size(amp))\n",
    "plt.figure(figsize=(15,5))\n",
    "plt.plot(xf,abs(amp), '-', color = 'g')\n",
    "plt.xlabel(\"$Frecuencia$\",fontsize = 15)\n",
    "plt.ylabel(\"$Amplitud$\",fontsize = 15)\n"
   ]
  },
  {
   "cell_type": "markdown",
   "metadata": {},
   "source": [
    "## Metodo 2 (alternativo) para la transformada de Fourier"
   ]
  },
  {
   "cell_type": "code",
   "execution_count": 38,
   "metadata": {},
   "outputs": [],
   "source": [
    "# Con este codigo solo comprobe que la evaluacion del Metodo 1 sea correcta.\n",
    "def dft(x):\n",
    "    N, yr, yi = len(x), [], []\n",
    "    for k in range(N):\n",
    "        real, imag = 0, 0\n",
    "        for n in range(N):\n",
    "            theta = -k * (2 * math.pi) * (float(n) / N)\n",
    "            real += x[n] * math.cos(theta)\n",
    "            imag += x[n] * math.sin(theta)\n",
    "        yr.append(real / N) # Regresa la parte real\n",
    "        yi.append(imag / N) # Regresa la parte imaginaria\n",
    "    return yr, yi"
   ]
  },
  {
   "cell_type": "markdown",
   "metadata": {},
   "source": [
    "## Metodo 3 para la transformada de Fourier utilizando la funcion FFT"
   ]
  },
  {
   "cell_type": "markdown",
   "metadata": {},
   "source": [
    "Usamos la funcion fft (Fast Fourier Transform) precargada para obtener la transformada de Fourier de nuestra funcion."
   ]
  },
  {
   "cell_type": "code",
   "execution_count": 26,
   "metadata": {},
   "outputs": [],
   "source": [
    "yfft = fft(y)"
   ]
  },
  {
   "cell_type": "markdown",
   "metadata": {},
   "source": [
    "Graficamos la transformada, tambien es necesario hacer una transformacion para las frecuencias."
   ]
  },
  {
   "cell_type": "code",
   "execution_count": 28,
   "metadata": {},
   "outputs": [
    {
     "data": {
      "text/plain": [
       "Text(0,0.5,'$Amplitud$')"
      ]
     },
     "execution_count": 28,
     "metadata": {},
     "output_type": "execute_result"
    },
    {
     "data": {
      "image/png": "[encoded data removed]",
      "text/plain": [
       "<Figure size 1080x360 with 1 Axes>"
      ]
     },
     "metadata": {},
     "output_type": "display_data"
    }
   ],
   "source": [
    "xf = np.fft.fftfreq(np.size(yfft))\n",
    "plt.figure(figsize=(15,5))\n",
    "plt.plot(xf,abs(yfft), '-', color = 'g')\n",
    "plt.xlabel(\"$Frecuencia$\",fontsize = 15)\n",
    "plt.ylabel(\"$Amplitud$\",fontsize = 15)"
   ]
  },
  {
   "cell_type": "code",
   "execution_count": 251,
   "metadata": {},
   "outputs": [],
   "source": [
    "# Definimos la funcion inversa de la transformada de Fourier que nos puede servir mas adelante.\n",
    "\n",
    "def idft(yr, yi):\n",
    "    N, x = len(yr), []\n",
    "    for n in range(N):\n",
    "        real, imag = 0, 0\n",
    "        for k in range(N):\n",
    "            theta = k * (2 * math.pi) * (float(n) / N)\n",
    "            real += (yr[k] * math.cos(theta)) - (yi[k] * math.sin(theta))\n",
    "            # imag += (yr[k] * math.sin(theta)) + (yi[k] * math.cos(theta))\n",
    "        x.append(real)\n",
    "    return x"
   ]
  },
  {
   "cell_type": "markdown",
   "metadata": {},
   "source": [
    "### Ahora, ¿que pasa si $x_{0}=1$ con la transformada? Comparemos el Metodo 1 con la funcion FFT."
   ]
  },
  {
   "cell_type": "markdown",
   "metadata": {},
   "source": [
    "Cambiamos los parametros y graficamos la gaussiana:"
   ]
  },
  {
   "cell_type": "code",
   "execution_count": 4,
   "metadata": {},
   "outputs": [],
   "source": [
    "n2 = 1000\n",
    "amp2 = np.empty(n2, dtype=complex)\n",
    "x2 = np.linspace(-100, 100, n2)\n",
    "mu2, delta2 = 1, 3\n",
    "y2 = gaus(x2, mu2, delta2)"
   ]
  },
  {
   "cell_type": "code",
   "execution_count": 63,
   "metadata": {},
   "outputs": [
    {
     "data": {
      "text/plain": [
       "Text(0,0.5,'$y$')"
      ]
     },
     "execution_count": 63,
     "metadata": {},
     "output_type": "execute_result"
    },
    {
     "data": {
      "image/png": "[encoded data removed]",
      "text/plain": [
       "<Figure size 432x288 with 1 Axes>"
      ]
     },
     "metadata": {},
     "output_type": "display_data"
    }
   ],
   "source": [
    "plt.plot(x2,y2, color = 'b', label='$\\sigma = 1$')\n",
    "plt.legend()\n",
    "plt.xlabel(\"$x$\",fontsize = 15)\n",
    "plt.ylabel(\"$y$\",fontsize = 15)"
   ]
  },
  {
   "cell_type": "markdown",
   "metadata": {},
   "source": [
    "Usamos el Metodo 1:"
   ]
  },
  {
   "cell_type": "code",
   "execution_count": 68,
   "metadata": {},
   "outputs": [
    {
     "name": "stdout",
     "output_type": "stream",
     "text": [
      "6.99 s ± 467 ms per loop (mean ± std. dev. of 7 runs, 1 loop each)\n"
     ]
    }
   ],
   "source": [
    "%%timeit\n",
    "for i in range(0, n2):\n",
    "    amp2[i] = amplitud(y2, n2, i)"
   ]
  },
  {
   "cell_type": "markdown",
   "metadata": {},
   "source": [
    "Usamos el metodo FFT:"
   ]
  },
  {
   "cell_type": "code",
   "execution_count": 67,
   "metadata": {},
   "outputs": [
    {
     "name": "stdout",
     "output_type": "stream",
     "text": [
      "8.81 µs ± 895 ns per loop (mean ± std. dev. of 7 runs, 100000 loops each)\n"
     ]
    }
   ],
   "source": [
    "%%timeit\n",
    "yfft2 = fft(y2)"
   ]
  },
  {
   "cell_type": "markdown",
   "metadata": {},
   "source": [
    "Graficamos ambas transformaciones"
   ]
  },
  {
   "cell_type": "code",
   "execution_count": null,
   "metadata": {},
   "outputs": [],
   "source": [
    "xf2 = np.fft.fftfreq(np.size(amp2))\n",
    "xf22 = np.fft.fftfreq(np.size(yfft2))\n",
    "plt.plot(xf22,abs(yfft2), '-', color = 'r')\n",
    "plt.plot(xf2,abs(amp2), '-', color = 'b', label='$\\sigma = 1$')\n",
    "plt.legend()\n",
    "plt.xlabel(\"$Frecuencia$\",fontsize = 15)\n",
    "plt.ylabel(\"$Amplitud$\",fontsize = 15)\n",
    "plt.figure(figsize=(15,5))"
   ]
  },
  {
   "cell_type": "markdown",
   "metadata": {},
   "source": [
    "Las graficas se empalman pero la funcion FFT requiere menos tiempo para su uso."
   ]
  },
  {
   "cell_type": "markdown",
   "metadata": {},
   "source": [
    "### Probemos con varios valores de s"
   ]
  },
  {
   "cell_type": "markdown",
   "metadata": {},
   "source": [
    "### $X_{0} = 20$"
   ]
  },
  {
   "cell_type": "code",
   "execution_count": 71,
   "metadata": {},
   "outputs": [],
   "source": [
    "amp3 = np.empty(n2, dtype=complex)\n",
    "x3 = np.linspace(-100, 100, n2)\n",
    "mu3, delta3 = 20, 3\n",
    "y3 = gaus(x3, mu3, delta3)"
   ]
  },
  {
   "cell_type": "code",
   "execution_count": 72,
   "metadata": {},
   "outputs": [
    {
     "data": {
      "text/plain": [
       "Text(0,0.5,'$y$')"
      ]
     },
     "execution_count": 72,
     "metadata": {},
     "output_type": "execute_result"
    },
    {
     "data": {
      "image/png": "[encoded data removed]",
      "text/plain": [
       "<Figure size 432x288 with 1 Axes>"
      ]
     },
     "metadata": {},
     "output_type": "display_data"
    }
   ],
   "source": [
    "plt.plot(x3,y3, color = 'c', label='$\\sigma = 20$')\n",
    "plt.legend()\n",
    "plt.xlabel(\"$x$\",fontsize = 15)\n",
    "plt.ylabel(\"$y$\",fontsize = 15)"
   ]
  },
  {
   "cell_type": "code",
   "execution_count": 73,
   "metadata": {},
   "outputs": [],
   "source": [
    "%%timeit\n",
    "for i in range(0, n2):\n",
    "    amp3[i] = amplitud(y3, n2, i)"
   ]
  },
  {
   "cell_type": "code",
   "execution_count": 75,
   "metadata": {},
   "outputs": [],
   "source": [
    "%%timeit\n",
    "yfft3 = fft(y3)"
   ]
  },
  {
   "cell_type": "code",
   "execution_count": 77,
   "metadata": {},
   "outputs": [
    {
     "data": {
      "text/plain": [
       "<Figure size 1080x360 with 0 Axes>"
      ]
     },
     "execution_count": 77,
     "metadata": {},
     "output_type": "execute_result"
    },
    {
     "data": {
      "image/png": "[encoded data removed]",
      "text/plain": [
       "<Figure size 432x288 with 1 Axes>"
      ]
     },
     "metadata": {},
     "output_type": "display_data"
    },
    {
     "data": {
      "text/plain": [
       "<Figure size 1080x360 with 0 Axes>"
      ]
     },
     "metadata": {},
     "output_type": "display_data"
    }
   ],
   "source": [
    "xf3 = np.fft.fftfreq(np.size(amp3))\n",
    "xf33 = np.fft.fftfreq(np.size(yfft3))\n",
    "plt.plot(xf33,abs(yfft3), '-', color = 'g')\n",
    "plt.plot(xf3,abs(amp3), '-', color = 'c', label='$\\sigma = 20$')\n",
    "plt.legend()\n",
    "plt.xlabel(\"$Frecuencia$\",fontsize = 15)\n",
    "plt.ylabel(\"$Amplitud$\",fontsize = 15)\n",
    "plt.figure(figsize=(15,5))"
   ]
  },
  {
   "cell_type": "markdown",
   "metadata": {},
   "source": [
    "### $X_{0} = 80$"
   ]
  },
  {
   "cell_type": "code",
   "execution_count": 5,
   "metadata": {},
   "outputs": [],
   "source": [
    "amp4 = np.empty(n2, dtype=complex)\n",
    "x4 = np.linspace(-100, 100, n2)\n",
    "mu4, delta4 = 80, 3\n",
    "y4 = gaus(x4, mu4, delta4)"
   ]
  },
  {
   "cell_type": "code",
   "execution_count": 6,
   "metadata": {},
   "outputs": [
    {
     "data": {
      "text/plain": [
       "Text(0,0.5,'$y$')"
      ]
     },
     "execution_count": 6,
     "metadata": {},
     "output_type": "execute_result"
    },
    {
     "data": {
      "image/png": "[encoded data removed]",
      "text/plain": [
       "<Figure size 432x288 with 1 Axes>"
      ]
     },
     "metadata": {},
     "output_type": "display_data"
    }
   ],
   "source": [
    "plt.plot(x4,y4, color = 'm', label='$\\sigma = 80$')\n",
    "plt.legend()\n",
    "plt.xlabel(\"$x$\",fontsize = 15)\n",
    "plt.ylabel(\"$y$\",fontsize = 15)"
   ]
  },
  {
   "cell_type": "code",
   "execution_count": 7,
   "metadata": {},
   "outputs": [],
   "source": [
    "for i in range(0, n2):\n",
    "    amp4[i] = amplitud(y4, n2, i)"
   ]
  },
  {
   "cell_type": "code",
   "execution_count": 8,
   "metadata": {},
   "outputs": [
    {
     "name": "stdout",
     "output_type": "stream",
     "text": [
      "7 µs ± 185 ns per loop (mean ± std. dev. of 7 runs, 100000 loops each)\n"
     ]
    }
   ],
   "source": [
    "%%timeit\n",
    "yfft4 = fft(y4)"
   ]
  },
  {
   "cell_type": "code",
   "execution_count": 9,
   "metadata": {},
   "outputs": [
    {
     "ename": "NameError",
     "evalue": "name 'yfft4' is not defined",
     "output_type": "error",
     "traceback": [
      "\u001b[0;31m---------------------------------------------------------------------------\u001b[0m",
      "\u001b[0;31mNameError\u001b[0m                                 Traceback (most recent call last)",
      "\u001b[0;32m<ipython-input-9-c4441147d303>\u001b[0m in \u001b[0;36m<module>\u001b[0;34m()\u001b[0m\n\u001b[1;32m      1\u001b[0m \u001b[0mxf4\u001b[0m \u001b[0;34m=\u001b[0m \u001b[0mnp\u001b[0m\u001b[0;34m.\u001b[0m\u001b[0mfft\u001b[0m\u001b[0;34m.\u001b[0m\u001b[0mfftfreq\u001b[0m\u001b[0;34m(\u001b[0m\u001b[0mnp\u001b[0m\u001b[0;34m.\u001b[0m\u001b[0msize\u001b[0m\u001b[0;34m(\u001b[0m\u001b[0mamp4\u001b[0m\u001b[0;34m)\u001b[0m\u001b[0;34m)\u001b[0m\u001b[0;34m\u001b[0m\u001b[0m\n\u001b[0;32m----> 2\u001b[0;31m \u001b[0mxf44\u001b[0m \u001b[0;34m=\u001b[0m \u001b[0mnp\u001b[0m\u001b[0;34m.\u001b[0m\u001b[0mfft\u001b[0m\u001b[0;34m.\u001b[0m\u001b[0mfftfreq\u001b[0m\u001b[0;34m(\u001b[0m\u001b[0mnp\u001b[0m\u001b[0;34m.\u001b[0m\u001b[0msize\u001b[0m\u001b[0;34m(\u001b[0m\u001b[0myfft4\u001b[0m\u001b[0;34m)\u001b[0m\u001b[0;34m)\u001b[0m\u001b[0;34m\u001b[0m\u001b[0m\n\u001b[0m\u001b[1;32m      3\u001b[0m \u001b[0mplt\u001b[0m\u001b[0;34m.\u001b[0m\u001b[0mplot\u001b[0m\u001b[0;34m(\u001b[0m\u001b[0mxf44\u001b[0m\u001b[0;34m,\u001b[0m\u001b[0mabs\u001b[0m\u001b[0;34m(\u001b[0m\u001b[0myfft4\u001b[0m\u001b[0;34m)\u001b[0m\u001b[0;34m,\u001b[0m \u001b[0;34m'-'\u001b[0m\u001b[0;34m,\u001b[0m \u001b[0mcolor\u001b[0m \u001b[0;34m=\u001b[0m \u001b[0;34m'g'\u001b[0m\u001b[0;34m)\u001b[0m\u001b[0;34m\u001b[0m\u001b[0m\n\u001b[1;32m      4\u001b[0m \u001b[0mplt\u001b[0m\u001b[0;34m.\u001b[0m\u001b[0mplot\u001b[0m\u001b[0;34m(\u001b[0m\u001b[0mxf4\u001b[0m\u001b[0;34m,\u001b[0m\u001b[0mabs\u001b[0m\u001b[0;34m(\u001b[0m\u001b[0mamp4\u001b[0m\u001b[0;34m)\u001b[0m\u001b[0;34m,\u001b[0m \u001b[0;34m'-'\u001b[0m\u001b[0;34m,\u001b[0m \u001b[0mcolor\u001b[0m \u001b[0;34m=\u001b[0m \u001b[0;34m'c'\u001b[0m\u001b[0;34m,\u001b[0m \u001b[0mlabel\u001b[0m\u001b[0;34m=\u001b[0m\u001b[0;34m'$\\sigma = 80$'\u001b[0m\u001b[0;34m)\u001b[0m\u001b[0;34m\u001b[0m\u001b[0m\n\u001b[1;32m      5\u001b[0m \u001b[0mplt\u001b[0m\u001b[0;34m.\u001b[0m\u001b[0mlegend\u001b[0m\u001b[0;34m(\u001b[0m\u001b[0;34m)\u001b[0m\u001b[0;34m\u001b[0m\u001b[0m\n",
      "\u001b[0;31mNameError\u001b[0m: name 'yfft4' is not defined"
     ]
    }
   ],
   "source": [
    "xf4 = np.fft.fftfreq(np.size(amp4))\n",
    "xf44 = np.fft.fftfreq(np.size(yfft4))\n",
    "plt.plot(xf44,abs(yfft4), '-', color = 'g')\n",
    "plt.plot(xf4,abs(amp4), '-', color = 'c', label='$\\sigma = 80$')\n",
    "plt.legend()\n",
    "plt.xlabel(\"$Frecuencia$\",fontsize = 15)\n",
    "plt.ylabel(\"$Amplitud$\",fontsize = 15)\n",
    "plt.figure(figsize=(15,5))"
   ]
  }
 ],
 "metadata": {
  "kernelspec": {
   "display_name": "Python 3 (ipykernel)",
   "language": "python",
   "name": "python3"
  },
  "language_info": {
   "codemirror_mode": {
    "name": "ipython",
    "version": 3
   },
   "file_extension": ".py",
   "mimetype": "text/x-python",
   "name": "python",
   "nbconvert_exporter": "python",
   "pygments_lexer": "ipython3",
   "version": "3.8.10"
  }
 },
 "nbformat": 4,
 "nbformat_minor": 2
}
